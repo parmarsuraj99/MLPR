{
 "cells": [
  {
   "cell_type": "code",
   "execution_count": 1,
   "metadata": {},
   "outputs": [
    {
     "name": "stdout",
     "output_type": "stream",
     "text": [
      "0.5714025946899135\n"
     ]
    }
   ],
   "source": [
    "import gc\n",
    "\n",
    "import pandas as pd\n",
    "import matplotlib.pyplot as plt\n",
    "import numpy as np\n",
    "import seaborn as sns\n",
    "\n",
    "import random\n",
    "\n",
    "from sklearn.preprocessing import StandardScaler, MinMaxScaler\n",
    "from sklearn.model_selection import train_test_split\n",
    "from sklearn.model_selection import KFold, LeaveOneOut, StratifiedKFold\n",
    "from sklearn import metrics\n",
    "\n",
    "from sklearn.preprocessing import OneHotEncoder\n",
    "from tensorflow.keras.utils import to_categorical\n",
    "import tensorflow as tf\n",
    "import tensorflow.keras.layers as L\n",
    "from tensorflow.keras import models\n",
    "\n",
    "random.seed(10)\n",
    "print(random.random()) "
   ]
  },
  {
   "cell_type": "code",
   "execution_count": 2,
   "metadata": {},
   "outputs": [],
   "source": [
    "df = pd.read_excel(\"default of credit card clients.xls\", header=1).set_index(\"ID\")\n",
    "df = df.rename({\"default payment next month\": \"default\"}, axis=1)\n",
    "df = df.rename({\"LIMIT_BAL\": \"credit_score\"}, axis=1)\n",
    "df[\"credit_score\"]/=10000"
   ]
  },
  {
   "cell_type": "code",
   "execution_count": 3,
   "metadata": {},
   "outputs": [
    {
     "data": {
      "text/html": [
       "<div>\n",
       "<style scoped>\n",
       "    .dataframe tbody tr th:only-of-type {\n",
       "        vertical-align: middle;\n",
       "    }\n",
       "\n",
       "    .dataframe tbody tr th {\n",
       "        vertical-align: top;\n",
       "    }\n",
       "\n",
       "    .dataframe thead th {\n",
       "        text-align: right;\n",
       "    }\n",
       "</style>\n",
       "<table border=\"1\" class=\"dataframe\">\n",
       "  <thead>\n",
       "    <tr style=\"text-align: right;\">\n",
       "      <th></th>\n",
       "      <th>credit_score</th>\n",
       "      <th>SEX</th>\n",
       "      <th>EDUCATION</th>\n",
       "      <th>MARRIAGE</th>\n",
       "      <th>AGE</th>\n",
       "      <th>PAY_0</th>\n",
       "      <th>PAY_2</th>\n",
       "      <th>PAY_3</th>\n",
       "      <th>PAY_4</th>\n",
       "      <th>PAY_5</th>\n",
       "      <th>...</th>\n",
       "      <th>BILL_AMT4</th>\n",
       "      <th>BILL_AMT5</th>\n",
       "      <th>BILL_AMT6</th>\n",
       "      <th>PAY_AMT1</th>\n",
       "      <th>PAY_AMT2</th>\n",
       "      <th>PAY_AMT3</th>\n",
       "      <th>PAY_AMT4</th>\n",
       "      <th>PAY_AMT5</th>\n",
       "      <th>PAY_AMT6</th>\n",
       "      <th>default</th>\n",
       "    </tr>\n",
       "    <tr>\n",
       "      <th>ID</th>\n",
       "      <th></th>\n",
       "      <th></th>\n",
       "      <th></th>\n",
       "      <th></th>\n",
       "      <th></th>\n",
       "      <th></th>\n",
       "      <th></th>\n",
       "      <th></th>\n",
       "      <th></th>\n",
       "      <th></th>\n",
       "      <th></th>\n",
       "      <th></th>\n",
       "      <th></th>\n",
       "      <th></th>\n",
       "      <th></th>\n",
       "      <th></th>\n",
       "      <th></th>\n",
       "      <th></th>\n",
       "      <th></th>\n",
       "      <th></th>\n",
       "      <th></th>\n",
       "    </tr>\n",
       "  </thead>\n",
       "  <tbody>\n",
       "    <tr>\n",
       "      <th>1</th>\n",
       "      <td>2.0</td>\n",
       "      <td>2</td>\n",
       "      <td>2</td>\n",
       "      <td>1</td>\n",
       "      <td>24</td>\n",
       "      <td>2</td>\n",
       "      <td>2</td>\n",
       "      <td>-1</td>\n",
       "      <td>-1</td>\n",
       "      <td>-2</td>\n",
       "      <td>...</td>\n",
       "      <td>0</td>\n",
       "      <td>0</td>\n",
       "      <td>0</td>\n",
       "      <td>0</td>\n",
       "      <td>689</td>\n",
       "      <td>0</td>\n",
       "      <td>0</td>\n",
       "      <td>0</td>\n",
       "      <td>0</td>\n",
       "      <td>1</td>\n",
       "    </tr>\n",
       "    <tr>\n",
       "      <th>2</th>\n",
       "      <td>12.0</td>\n",
       "      <td>2</td>\n",
       "      <td>2</td>\n",
       "      <td>2</td>\n",
       "      <td>26</td>\n",
       "      <td>-1</td>\n",
       "      <td>2</td>\n",
       "      <td>0</td>\n",
       "      <td>0</td>\n",
       "      <td>0</td>\n",
       "      <td>...</td>\n",
       "      <td>3272</td>\n",
       "      <td>3455</td>\n",
       "      <td>3261</td>\n",
       "      <td>0</td>\n",
       "      <td>1000</td>\n",
       "      <td>1000</td>\n",
       "      <td>1000</td>\n",
       "      <td>0</td>\n",
       "      <td>2000</td>\n",
       "      <td>1</td>\n",
       "    </tr>\n",
       "    <tr>\n",
       "      <th>3</th>\n",
       "      <td>9.0</td>\n",
       "      <td>2</td>\n",
       "      <td>2</td>\n",
       "      <td>2</td>\n",
       "      <td>34</td>\n",
       "      <td>0</td>\n",
       "      <td>0</td>\n",
       "      <td>0</td>\n",
       "      <td>0</td>\n",
       "      <td>0</td>\n",
       "      <td>...</td>\n",
       "      <td>14331</td>\n",
       "      <td>14948</td>\n",
       "      <td>15549</td>\n",
       "      <td>1518</td>\n",
       "      <td>1500</td>\n",
       "      <td>1000</td>\n",
       "      <td>1000</td>\n",
       "      <td>1000</td>\n",
       "      <td>5000</td>\n",
       "      <td>0</td>\n",
       "    </tr>\n",
       "    <tr>\n",
       "      <th>4</th>\n",
       "      <td>5.0</td>\n",
       "      <td>2</td>\n",
       "      <td>2</td>\n",
       "      <td>1</td>\n",
       "      <td>37</td>\n",
       "      <td>0</td>\n",
       "      <td>0</td>\n",
       "      <td>0</td>\n",
       "      <td>0</td>\n",
       "      <td>0</td>\n",
       "      <td>...</td>\n",
       "      <td>28314</td>\n",
       "      <td>28959</td>\n",
       "      <td>29547</td>\n",
       "      <td>2000</td>\n",
       "      <td>2019</td>\n",
       "      <td>1200</td>\n",
       "      <td>1100</td>\n",
       "      <td>1069</td>\n",
       "      <td>1000</td>\n",
       "      <td>0</td>\n",
       "    </tr>\n",
       "    <tr>\n",
       "      <th>5</th>\n",
       "      <td>5.0</td>\n",
       "      <td>1</td>\n",
       "      <td>2</td>\n",
       "      <td>1</td>\n",
       "      <td>57</td>\n",
       "      <td>-1</td>\n",
       "      <td>0</td>\n",
       "      <td>-1</td>\n",
       "      <td>0</td>\n",
       "      <td>0</td>\n",
       "      <td>...</td>\n",
       "      <td>20940</td>\n",
       "      <td>19146</td>\n",
       "      <td>19131</td>\n",
       "      <td>2000</td>\n",
       "      <td>36681</td>\n",
       "      <td>10000</td>\n",
       "      <td>9000</td>\n",
       "      <td>689</td>\n",
       "      <td>679</td>\n",
       "      <td>0</td>\n",
       "    </tr>\n",
       "    <tr>\n",
       "      <th>...</th>\n",
       "      <td>...</td>\n",
       "      <td>...</td>\n",
       "      <td>...</td>\n",
       "      <td>...</td>\n",
       "      <td>...</td>\n",
       "      <td>...</td>\n",
       "      <td>...</td>\n",
       "      <td>...</td>\n",
       "      <td>...</td>\n",
       "      <td>...</td>\n",
       "      <td>...</td>\n",
       "      <td>...</td>\n",
       "      <td>...</td>\n",
       "      <td>...</td>\n",
       "      <td>...</td>\n",
       "      <td>...</td>\n",
       "      <td>...</td>\n",
       "      <td>...</td>\n",
       "      <td>...</td>\n",
       "      <td>...</td>\n",
       "      <td>...</td>\n",
       "    </tr>\n",
       "    <tr>\n",
       "      <th>29996</th>\n",
       "      <td>22.0</td>\n",
       "      <td>1</td>\n",
       "      <td>3</td>\n",
       "      <td>1</td>\n",
       "      <td>39</td>\n",
       "      <td>0</td>\n",
       "      <td>0</td>\n",
       "      <td>0</td>\n",
       "      <td>0</td>\n",
       "      <td>0</td>\n",
       "      <td>...</td>\n",
       "      <td>88004</td>\n",
       "      <td>31237</td>\n",
       "      <td>15980</td>\n",
       "      <td>8500</td>\n",
       "      <td>20000</td>\n",
       "      <td>5003</td>\n",
       "      <td>3047</td>\n",
       "      <td>5000</td>\n",
       "      <td>1000</td>\n",
       "      <td>0</td>\n",
       "    </tr>\n",
       "    <tr>\n",
       "      <th>29997</th>\n",
       "      <td>15.0</td>\n",
       "      <td>1</td>\n",
       "      <td>3</td>\n",
       "      <td>2</td>\n",
       "      <td>43</td>\n",
       "      <td>-1</td>\n",
       "      <td>-1</td>\n",
       "      <td>-1</td>\n",
       "      <td>-1</td>\n",
       "      <td>0</td>\n",
       "      <td>...</td>\n",
       "      <td>8979</td>\n",
       "      <td>5190</td>\n",
       "      <td>0</td>\n",
       "      <td>1837</td>\n",
       "      <td>3526</td>\n",
       "      <td>8998</td>\n",
       "      <td>129</td>\n",
       "      <td>0</td>\n",
       "      <td>0</td>\n",
       "      <td>0</td>\n",
       "    </tr>\n",
       "    <tr>\n",
       "      <th>29998</th>\n",
       "      <td>3.0</td>\n",
       "      <td>1</td>\n",
       "      <td>2</td>\n",
       "      <td>2</td>\n",
       "      <td>37</td>\n",
       "      <td>4</td>\n",
       "      <td>3</td>\n",
       "      <td>2</td>\n",
       "      <td>-1</td>\n",
       "      <td>0</td>\n",
       "      <td>...</td>\n",
       "      <td>20878</td>\n",
       "      <td>20582</td>\n",
       "      <td>19357</td>\n",
       "      <td>0</td>\n",
       "      <td>0</td>\n",
       "      <td>22000</td>\n",
       "      <td>4200</td>\n",
       "      <td>2000</td>\n",
       "      <td>3100</td>\n",
       "      <td>1</td>\n",
       "    </tr>\n",
       "    <tr>\n",
       "      <th>29999</th>\n",
       "      <td>8.0</td>\n",
       "      <td>1</td>\n",
       "      <td>3</td>\n",
       "      <td>1</td>\n",
       "      <td>41</td>\n",
       "      <td>1</td>\n",
       "      <td>-1</td>\n",
       "      <td>0</td>\n",
       "      <td>0</td>\n",
       "      <td>0</td>\n",
       "      <td>...</td>\n",
       "      <td>52774</td>\n",
       "      <td>11855</td>\n",
       "      <td>48944</td>\n",
       "      <td>85900</td>\n",
       "      <td>3409</td>\n",
       "      <td>1178</td>\n",
       "      <td>1926</td>\n",
       "      <td>52964</td>\n",
       "      <td>1804</td>\n",
       "      <td>1</td>\n",
       "    </tr>\n",
       "    <tr>\n",
       "      <th>30000</th>\n",
       "      <td>5.0</td>\n",
       "      <td>1</td>\n",
       "      <td>2</td>\n",
       "      <td>1</td>\n",
       "      <td>46</td>\n",
       "      <td>0</td>\n",
       "      <td>0</td>\n",
       "      <td>0</td>\n",
       "      <td>0</td>\n",
       "      <td>0</td>\n",
       "      <td>...</td>\n",
       "      <td>36535</td>\n",
       "      <td>32428</td>\n",
       "      <td>15313</td>\n",
       "      <td>2078</td>\n",
       "      <td>1800</td>\n",
       "      <td>1430</td>\n",
       "      <td>1000</td>\n",
       "      <td>1000</td>\n",
       "      <td>1000</td>\n",
       "      <td>1</td>\n",
       "    </tr>\n",
       "  </tbody>\n",
       "</table>\n",
       "<p>30000 rows × 24 columns</p>\n",
       "</div>"
      ],
      "text/plain": [
       "       credit_score  SEX  EDUCATION  MARRIAGE  AGE  PAY_0  PAY_2  PAY_3  \\\n",
       "ID                                                                        \n",
       "1               2.0    2          2         1   24      2      2     -1   \n",
       "2              12.0    2          2         2   26     -1      2      0   \n",
       "3               9.0    2          2         2   34      0      0      0   \n",
       "4               5.0    2          2         1   37      0      0      0   \n",
       "5               5.0    1          2         1   57     -1      0     -1   \n",
       "...             ...  ...        ...       ...  ...    ...    ...    ...   \n",
       "29996          22.0    1          3         1   39      0      0      0   \n",
       "29997          15.0    1          3         2   43     -1     -1     -1   \n",
       "29998           3.0    1          2         2   37      4      3      2   \n",
       "29999           8.0    1          3         1   41      1     -1      0   \n",
       "30000           5.0    1          2         1   46      0      0      0   \n",
       "\n",
       "       PAY_4  PAY_5  ...  BILL_AMT4  BILL_AMT5  BILL_AMT6  PAY_AMT1  PAY_AMT2  \\\n",
       "ID                   ...                                                        \n",
       "1         -1     -2  ...          0          0          0         0       689   \n",
       "2          0      0  ...       3272       3455       3261         0      1000   \n",
       "3          0      0  ...      14331      14948      15549      1518      1500   \n",
       "4          0      0  ...      28314      28959      29547      2000      2019   \n",
       "5          0      0  ...      20940      19146      19131      2000     36681   \n",
       "...      ...    ...  ...        ...        ...        ...       ...       ...   \n",
       "29996      0      0  ...      88004      31237      15980      8500     20000   \n",
       "29997     -1      0  ...       8979       5190          0      1837      3526   \n",
       "29998     -1      0  ...      20878      20582      19357         0         0   \n",
       "29999      0      0  ...      52774      11855      48944     85900      3409   \n",
       "30000      0      0  ...      36535      32428      15313      2078      1800   \n",
       "\n",
       "       PAY_AMT3  PAY_AMT4  PAY_AMT5  PAY_AMT6  default  \n",
       "ID                                                      \n",
       "1             0         0         0         0        1  \n",
       "2          1000      1000         0      2000        1  \n",
       "3          1000      1000      1000      5000        0  \n",
       "4          1200      1100      1069      1000        0  \n",
       "5         10000      9000       689       679        0  \n",
       "...         ...       ...       ...       ...      ...  \n",
       "29996      5003      3047      5000      1000        0  \n",
       "29997      8998       129         0         0        0  \n",
       "29998     22000      4200      2000      3100        1  \n",
       "29999      1178      1926     52964      1804        1  \n",
       "30000      1430      1000      1000      1000        1  \n",
       "\n",
       "[30000 rows x 24 columns]"
      ]
     },
     "execution_count": 3,
     "metadata": {},
     "output_type": "execute_result"
    }
   ],
   "source": [
    "df"
   ]
  },
  {
   "cell_type": "code",
   "execution_count": 4,
   "metadata": {},
   "outputs": [
    {
     "data": {
      "text/plain": [
       "count    30000.000000\n",
       "mean        16.748432\n",
       "std         12.974766\n",
       "min          1.000000\n",
       "25%          5.000000\n",
       "50%         14.000000\n",
       "75%         24.000000\n",
       "max        100.000000\n",
       "Name: credit_score, dtype: float64"
      ]
     },
     "execution_count": 4,
     "metadata": {},
     "output_type": "execute_result"
    }
   ],
   "source": [
    "df[\"credit_score\"].describe()"
   ]
  },
  {
   "cell_type": "code",
   "execution_count": 5,
   "metadata": {},
   "outputs": [
    {
     "name": "stdout",
     "output_type": "stream",
     "text": [
      "Index(['credit_score', 'SEX', 'EDUCATION', 'MARRIAGE', 'AGE', 'PAY_0', 'PAY_2',\n",
      "       'PAY_3', 'PAY_4', 'PAY_5', 'PAY_6', 'BILL_AMT1', 'BILL_AMT2',\n",
      "       'BILL_AMT3', 'BILL_AMT4', 'BILL_AMT5', 'BILL_AMT6', 'PAY_AMT1',\n",
      "       'PAY_AMT2', 'PAY_AMT3', 'PAY_AMT4', 'PAY_AMT5', 'PAY_AMT6', 'default'],\n",
      "      dtype='object')\n",
      "    credit_score  SEX  EDUCATION  MARRIAGE  AGE  PAY_0  PAY_2  PAY_3  PAY_4  \\\n",
      "ID                                                                            \n",
      "1            2.0    2          2         1   24      2      2     -1     -1   \n",
      "2           12.0    2          2         2   26     -1      2      0      0   \n",
      "\n",
      "    PAY_5  ...  BILL_AMT4  BILL_AMT5  BILL_AMT6  PAY_AMT1  PAY_AMT2  PAY_AMT3  \\\n",
      "ID         ...                                                                  \n",
      "1      -2  ...          0          0          0         0       689         0   \n",
      "2       0  ...       3272       3455       3261         0      1000      1000   \n",
      "\n",
      "    PAY_AMT4  PAY_AMT5  PAY_AMT6  default  \n",
      "ID                                         \n",
      "1          0         0         0        1  \n",
      "2       1000         0      2000        1  \n",
      "\n",
      "[2 rows x 24 columns]\n"
     ]
    },
    {
     "data": {
      "text/plain": [
       "(None, None)"
      ]
     },
     "execution_count": 5,
     "metadata": {},
     "output_type": "execute_result"
    }
   ],
   "source": [
    "print(df.columns), print(df.loc[:2])"
   ]
  },
  {
   "cell_type": "code",
   "execution_count": 6,
   "metadata": {},
   "outputs": [
    {
     "data": {
      "text/plain": [
       "ID\n",
       "1        1\n",
       "2        1\n",
       "3        0\n",
       "4        0\n",
       "5        0\n",
       "        ..\n",
       "29996    0\n",
       "29997    0\n",
       "29998    1\n",
       "29999    1\n",
       "30000    1\n",
       "Name: default, Length: 30000, dtype: int64"
      ]
     },
     "execution_count": 6,
     "metadata": {},
     "output_type": "execute_result"
    }
   ],
   "source": [
    "df[\"default\"]"
   ]
  },
  {
   "cell_type": "code",
   "execution_count": 7,
   "metadata": {},
   "outputs": [
    {
     "name": "stdout",
     "output_type": "stream",
     "text": [
      "<class 'pandas.core.frame.DataFrame'>\n",
      "Int64Index: 30000 entries, 1 to 30000\n",
      "Data columns (total 24 columns):\n",
      " #   Column        Non-Null Count  Dtype  \n",
      "---  ------        --------------  -----  \n",
      " 0   credit_score  30000 non-null  float64\n",
      " 1   SEX           30000 non-null  int64  \n",
      " 2   EDUCATION     30000 non-null  int64  \n",
      " 3   MARRIAGE      30000 non-null  int64  \n",
      " 4   AGE           30000 non-null  int64  \n",
      " 5   PAY_0         30000 non-null  int64  \n",
      " 6   PAY_2         30000 non-null  int64  \n",
      " 7   PAY_3         30000 non-null  int64  \n",
      " 8   PAY_4         30000 non-null  int64  \n",
      " 9   PAY_5         30000 non-null  int64  \n",
      " 10  PAY_6         30000 non-null  int64  \n",
      " 11  BILL_AMT1     30000 non-null  int64  \n",
      " 12  BILL_AMT2     30000 non-null  int64  \n",
      " 13  BILL_AMT3     30000 non-null  int64  \n",
      " 14  BILL_AMT4     30000 non-null  int64  \n",
      " 15  BILL_AMT5     30000 non-null  int64  \n",
      " 16  BILL_AMT6     30000 non-null  int64  \n",
      " 17  PAY_AMT1      30000 non-null  int64  \n",
      " 18  PAY_AMT2      30000 non-null  int64  \n",
      " 19  PAY_AMT3      30000 non-null  int64  \n",
      " 20  PAY_AMT4      30000 non-null  int64  \n",
      " 21  PAY_AMT5      30000 non-null  int64  \n",
      " 22  PAY_AMT6      30000 non-null  int64  \n",
      " 23  default       30000 non-null  int64  \n",
      "dtypes: float64(1), int64(23)\n",
      "memory usage: 6.7 MB\n"
     ]
    }
   ],
   "source": [
    "df.info()"
   ]
  },
  {
   "cell_type": "code",
   "execution_count": 8,
   "metadata": {},
   "outputs": [
    {
     "data": {
      "text/plain": [
       "credit_score    0\n",
       "SEX             0\n",
       "EDUCATION       0\n",
       "MARRIAGE        0\n",
       "AGE             0\n",
       "PAY_0           0\n",
       "PAY_2           0\n",
       "PAY_3           0\n",
       "PAY_4           0\n",
       "PAY_5           0\n",
       "PAY_6           0\n",
       "BILL_AMT1       0\n",
       "BILL_AMT2       0\n",
       "BILL_AMT3       0\n",
       "BILL_AMT4       0\n",
       "BILL_AMT5       0\n",
       "BILL_AMT6       0\n",
       "PAY_AMT1        0\n",
       "PAY_AMT2        0\n",
       "PAY_AMT3        0\n",
       "PAY_AMT4        0\n",
       "PAY_AMT5        0\n",
       "PAY_AMT6        0\n",
       "default         0\n",
       "dtype: int64"
      ]
     },
     "execution_count": 8,
     "metadata": {},
     "output_type": "execute_result"
    }
   ],
   "source": [
    "df.isna().sum()"
   ]
  },
  {
   "cell_type": "code",
   "execution_count": 9,
   "metadata": {},
   "outputs": [
    {
     "data": {
      "text/html": [
       "<div>\n",
       "<style scoped>\n",
       "    .dataframe tbody tr th:only-of-type {\n",
       "        vertical-align: middle;\n",
       "    }\n",
       "\n",
       "    .dataframe tbody tr th {\n",
       "        vertical-align: top;\n",
       "    }\n",
       "\n",
       "    .dataframe thead th {\n",
       "        text-align: right;\n",
       "    }\n",
       "</style>\n",
       "<table border=\"1\" class=\"dataframe\">\n",
       "  <thead>\n",
       "    <tr style=\"text-align: right;\">\n",
       "      <th></th>\n",
       "      <th>credit_score</th>\n",
       "      <th>SEX</th>\n",
       "      <th>EDUCATION</th>\n",
       "      <th>MARRIAGE</th>\n",
       "      <th>AGE</th>\n",
       "      <th>PAY_0</th>\n",
       "      <th>PAY_2</th>\n",
       "      <th>PAY_3</th>\n",
       "      <th>PAY_4</th>\n",
       "      <th>PAY_5</th>\n",
       "      <th>...</th>\n",
       "      <th>BILL_AMT4</th>\n",
       "      <th>BILL_AMT5</th>\n",
       "      <th>BILL_AMT6</th>\n",
       "      <th>PAY_AMT1</th>\n",
       "      <th>PAY_AMT2</th>\n",
       "      <th>PAY_AMT3</th>\n",
       "      <th>PAY_AMT4</th>\n",
       "      <th>PAY_AMT5</th>\n",
       "      <th>PAY_AMT6</th>\n",
       "      <th>default</th>\n",
       "    </tr>\n",
       "  </thead>\n",
       "  <tbody>\n",
       "    <tr>\n",
       "      <th>count</th>\n",
       "      <td>30000.000000</td>\n",
       "      <td>30000.000000</td>\n",
       "      <td>30000.000000</td>\n",
       "      <td>30000.000000</td>\n",
       "      <td>30000.000000</td>\n",
       "      <td>30000.000000</td>\n",
       "      <td>30000.000000</td>\n",
       "      <td>30000.000000</td>\n",
       "      <td>30000.000000</td>\n",
       "      <td>30000.000000</td>\n",
       "      <td>...</td>\n",
       "      <td>30000.000000</td>\n",
       "      <td>30000.000000</td>\n",
       "      <td>30000.000000</td>\n",
       "      <td>30000.000000</td>\n",
       "      <td>3.000000e+04</td>\n",
       "      <td>30000.00000</td>\n",
       "      <td>30000.000000</td>\n",
       "      <td>30000.000000</td>\n",
       "      <td>30000.000000</td>\n",
       "      <td>30000.000000</td>\n",
       "    </tr>\n",
       "    <tr>\n",
       "      <th>mean</th>\n",
       "      <td>16.748432</td>\n",
       "      <td>1.603733</td>\n",
       "      <td>1.853133</td>\n",
       "      <td>1.551867</td>\n",
       "      <td>35.485500</td>\n",
       "      <td>-0.016700</td>\n",
       "      <td>-0.133767</td>\n",
       "      <td>-0.166200</td>\n",
       "      <td>-0.220667</td>\n",
       "      <td>-0.266200</td>\n",
       "      <td>...</td>\n",
       "      <td>43262.948967</td>\n",
       "      <td>40311.400967</td>\n",
       "      <td>38871.760400</td>\n",
       "      <td>5663.580500</td>\n",
       "      <td>5.921163e+03</td>\n",
       "      <td>5225.68150</td>\n",
       "      <td>4826.076867</td>\n",
       "      <td>4799.387633</td>\n",
       "      <td>5215.502567</td>\n",
       "      <td>0.221200</td>\n",
       "    </tr>\n",
       "    <tr>\n",
       "      <th>std</th>\n",
       "      <td>12.974766</td>\n",
       "      <td>0.489129</td>\n",
       "      <td>0.790349</td>\n",
       "      <td>0.521970</td>\n",
       "      <td>9.217904</td>\n",
       "      <td>1.123802</td>\n",
       "      <td>1.197186</td>\n",
       "      <td>1.196868</td>\n",
       "      <td>1.169139</td>\n",
       "      <td>1.133187</td>\n",
       "      <td>...</td>\n",
       "      <td>64332.856134</td>\n",
       "      <td>60797.155770</td>\n",
       "      <td>59554.107537</td>\n",
       "      <td>16563.280354</td>\n",
       "      <td>2.304087e+04</td>\n",
       "      <td>17606.96147</td>\n",
       "      <td>15666.159744</td>\n",
       "      <td>15278.305679</td>\n",
       "      <td>17777.465775</td>\n",
       "      <td>0.415062</td>\n",
       "    </tr>\n",
       "    <tr>\n",
       "      <th>min</th>\n",
       "      <td>1.000000</td>\n",
       "      <td>1.000000</td>\n",
       "      <td>0.000000</td>\n",
       "      <td>0.000000</td>\n",
       "      <td>21.000000</td>\n",
       "      <td>-2.000000</td>\n",
       "      <td>-2.000000</td>\n",
       "      <td>-2.000000</td>\n",
       "      <td>-2.000000</td>\n",
       "      <td>-2.000000</td>\n",
       "      <td>...</td>\n",
       "      <td>-170000.000000</td>\n",
       "      <td>-81334.000000</td>\n",
       "      <td>-339603.000000</td>\n",
       "      <td>0.000000</td>\n",
       "      <td>0.000000e+00</td>\n",
       "      <td>0.00000</td>\n",
       "      <td>0.000000</td>\n",
       "      <td>0.000000</td>\n",
       "      <td>0.000000</td>\n",
       "      <td>0.000000</td>\n",
       "    </tr>\n",
       "    <tr>\n",
       "      <th>25%</th>\n",
       "      <td>5.000000</td>\n",
       "      <td>1.000000</td>\n",
       "      <td>1.000000</td>\n",
       "      <td>1.000000</td>\n",
       "      <td>28.000000</td>\n",
       "      <td>-1.000000</td>\n",
       "      <td>-1.000000</td>\n",
       "      <td>-1.000000</td>\n",
       "      <td>-1.000000</td>\n",
       "      <td>-1.000000</td>\n",
       "      <td>...</td>\n",
       "      <td>2326.750000</td>\n",
       "      <td>1763.000000</td>\n",
       "      <td>1256.000000</td>\n",
       "      <td>1000.000000</td>\n",
       "      <td>8.330000e+02</td>\n",
       "      <td>390.00000</td>\n",
       "      <td>296.000000</td>\n",
       "      <td>252.500000</td>\n",
       "      <td>117.750000</td>\n",
       "      <td>0.000000</td>\n",
       "    </tr>\n",
       "    <tr>\n",
       "      <th>50%</th>\n",
       "      <td>14.000000</td>\n",
       "      <td>2.000000</td>\n",
       "      <td>2.000000</td>\n",
       "      <td>2.000000</td>\n",
       "      <td>34.000000</td>\n",
       "      <td>0.000000</td>\n",
       "      <td>0.000000</td>\n",
       "      <td>0.000000</td>\n",
       "      <td>0.000000</td>\n",
       "      <td>0.000000</td>\n",
       "      <td>...</td>\n",
       "      <td>19052.000000</td>\n",
       "      <td>18104.500000</td>\n",
       "      <td>17071.000000</td>\n",
       "      <td>2100.000000</td>\n",
       "      <td>2.009000e+03</td>\n",
       "      <td>1800.00000</td>\n",
       "      <td>1500.000000</td>\n",
       "      <td>1500.000000</td>\n",
       "      <td>1500.000000</td>\n",
       "      <td>0.000000</td>\n",
       "    </tr>\n",
       "    <tr>\n",
       "      <th>75%</th>\n",
       "      <td>24.000000</td>\n",
       "      <td>2.000000</td>\n",
       "      <td>2.000000</td>\n",
       "      <td>2.000000</td>\n",
       "      <td>41.000000</td>\n",
       "      <td>0.000000</td>\n",
       "      <td>0.000000</td>\n",
       "      <td>0.000000</td>\n",
       "      <td>0.000000</td>\n",
       "      <td>0.000000</td>\n",
       "      <td>...</td>\n",
       "      <td>54506.000000</td>\n",
       "      <td>50190.500000</td>\n",
       "      <td>49198.250000</td>\n",
       "      <td>5006.000000</td>\n",
       "      <td>5.000000e+03</td>\n",
       "      <td>4505.00000</td>\n",
       "      <td>4013.250000</td>\n",
       "      <td>4031.500000</td>\n",
       "      <td>4000.000000</td>\n",
       "      <td>0.000000</td>\n",
       "    </tr>\n",
       "    <tr>\n",
       "      <th>max</th>\n",
       "      <td>100.000000</td>\n",
       "      <td>2.000000</td>\n",
       "      <td>6.000000</td>\n",
       "      <td>3.000000</td>\n",
       "      <td>79.000000</td>\n",
       "      <td>8.000000</td>\n",
       "      <td>8.000000</td>\n",
       "      <td>8.000000</td>\n",
       "      <td>8.000000</td>\n",
       "      <td>8.000000</td>\n",
       "      <td>...</td>\n",
       "      <td>891586.000000</td>\n",
       "      <td>927171.000000</td>\n",
       "      <td>961664.000000</td>\n",
       "      <td>873552.000000</td>\n",
       "      <td>1.684259e+06</td>\n",
       "      <td>896040.00000</td>\n",
       "      <td>621000.000000</td>\n",
       "      <td>426529.000000</td>\n",
       "      <td>528666.000000</td>\n",
       "      <td>1.000000</td>\n",
       "    </tr>\n",
       "  </tbody>\n",
       "</table>\n",
       "<p>8 rows × 24 columns</p>\n",
       "</div>"
      ],
      "text/plain": [
       "       credit_score           SEX     EDUCATION      MARRIAGE           AGE  \\\n",
       "count  30000.000000  30000.000000  30000.000000  30000.000000  30000.000000   \n",
       "mean      16.748432      1.603733      1.853133      1.551867     35.485500   \n",
       "std       12.974766      0.489129      0.790349      0.521970      9.217904   \n",
       "min        1.000000      1.000000      0.000000      0.000000     21.000000   \n",
       "25%        5.000000      1.000000      1.000000      1.000000     28.000000   \n",
       "50%       14.000000      2.000000      2.000000      2.000000     34.000000   \n",
       "75%       24.000000      2.000000      2.000000      2.000000     41.000000   \n",
       "max      100.000000      2.000000      6.000000      3.000000     79.000000   \n",
       "\n",
       "              PAY_0         PAY_2         PAY_3         PAY_4         PAY_5  \\\n",
       "count  30000.000000  30000.000000  30000.000000  30000.000000  30000.000000   \n",
       "mean      -0.016700     -0.133767     -0.166200     -0.220667     -0.266200   \n",
       "std        1.123802      1.197186      1.196868      1.169139      1.133187   \n",
       "min       -2.000000     -2.000000     -2.000000     -2.000000     -2.000000   \n",
       "25%       -1.000000     -1.000000     -1.000000     -1.000000     -1.000000   \n",
       "50%        0.000000      0.000000      0.000000      0.000000      0.000000   \n",
       "75%        0.000000      0.000000      0.000000      0.000000      0.000000   \n",
       "max        8.000000      8.000000      8.000000      8.000000      8.000000   \n",
       "\n",
       "       ...      BILL_AMT4      BILL_AMT5      BILL_AMT6       PAY_AMT1  \\\n",
       "count  ...   30000.000000   30000.000000   30000.000000   30000.000000   \n",
       "mean   ...   43262.948967   40311.400967   38871.760400    5663.580500   \n",
       "std    ...   64332.856134   60797.155770   59554.107537   16563.280354   \n",
       "min    ... -170000.000000  -81334.000000 -339603.000000       0.000000   \n",
       "25%    ...    2326.750000    1763.000000    1256.000000    1000.000000   \n",
       "50%    ...   19052.000000   18104.500000   17071.000000    2100.000000   \n",
       "75%    ...   54506.000000   50190.500000   49198.250000    5006.000000   \n",
       "max    ...  891586.000000  927171.000000  961664.000000  873552.000000   \n",
       "\n",
       "           PAY_AMT2      PAY_AMT3       PAY_AMT4       PAY_AMT5  \\\n",
       "count  3.000000e+04   30000.00000   30000.000000   30000.000000   \n",
       "mean   5.921163e+03    5225.68150    4826.076867    4799.387633   \n",
       "std    2.304087e+04   17606.96147   15666.159744   15278.305679   \n",
       "min    0.000000e+00       0.00000       0.000000       0.000000   \n",
       "25%    8.330000e+02     390.00000     296.000000     252.500000   \n",
       "50%    2.009000e+03    1800.00000    1500.000000    1500.000000   \n",
       "75%    5.000000e+03    4505.00000    4013.250000    4031.500000   \n",
       "max    1.684259e+06  896040.00000  621000.000000  426529.000000   \n",
       "\n",
       "            PAY_AMT6       default  \n",
       "count   30000.000000  30000.000000  \n",
       "mean     5215.502567      0.221200  \n",
       "std     17777.465775      0.415062  \n",
       "min         0.000000      0.000000  \n",
       "25%       117.750000      0.000000  \n",
       "50%      1500.000000      0.000000  \n",
       "75%      4000.000000      0.000000  \n",
       "max    528666.000000      1.000000  \n",
       "\n",
       "[8 rows x 24 columns]"
      ]
     },
     "execution_count": 9,
     "metadata": {},
     "output_type": "execute_result"
    }
   ],
   "source": [
    "df.describe()"
   ]
  },
  {
   "cell_type": "code",
   "execution_count": 10,
   "metadata": {},
   "outputs": [
    {
     "data": {
      "text/plain": [
       "'\\nThis research employed a binary variable, default payment (Yes = 1, No = 0), as the response variable. This study reviewed the literature and used the following 23 variables as explanatory variables:\\nX1: Amount of the given credit (NT dollar): it includes both the individual consumer credit and his/her family (supplementary) credit.\\nX2: Gender (1 = male; 2 = female).\\nX3: Education (1 = graduate school; 2 = university; 3 = high school; 4 = others).\\nX4: Marital status (1 = married; 2 = single; 3 = others).\\nX5: Age (year).\\nX6 - X11: History of past payment. We tracked the past monthly payment records (from April to September, 2005) as follows: X6 = the repayment status in September, 2005; X7 = the repayment status in August, 2005; . . .;X11 = the repayment status in April, 2005. The measurement scale for the repayment status is: -1 = pay duly; 1 = payment delay for one month; 2 = payment delay for two months; . . .; 8 = payment delay for eight months; 9 = payment delay for nine months and above.\\nX12-X17: Amount of bill statement (NT dollar). X12 = amount of bill statement in September, 2005; X13 = amount of bill statement in August, 2005; . . .; X17 = amount of bill statement in April, 2005.\\nX18-X23: Amount of previous payment (NT dollar). X18 = amount paid in September, 2005; X19 = amount paid in August, 2005; . . .;X23 = amount paid in April, 2005.\\n\\n'"
      ]
     },
     "execution_count": 10,
     "metadata": {},
     "output_type": "execute_result"
    }
   ],
   "source": [
    "\"\"\"\n",
    "This research employed a binary variable, default payment (Yes = 1, No = 0), as the response variable. This study reviewed the literature and used the following 23 variables as explanatory variables:\n",
    "X1: Amount of the given credit (NT dollar): it includes both the individual consumer credit and his/her family (supplementary) credit.\n",
    "X2: Gender (1 = male; 2 = female).\n",
    "X3: Education (1 = graduate school; 2 = university; 3 = high school; 4 = others).\n",
    "X4: Marital status (1 = married; 2 = single; 3 = others).\n",
    "X5: Age (year).\n",
    "X6 - X11: History of past payment. We tracked the past monthly payment records (from April to September, 2005) as follows: X6 = the repayment status in September, 2005; X7 = the repayment status in August, 2005; . . .;X11 = the repayment status in April, 2005. The measurement scale for the repayment status is: -1 = pay duly; 1 = payment delay for one month; 2 = payment delay for two months; . . .; 8 = payment delay for eight months; 9 = payment delay for nine months and above.\n",
    "X12-X17: Amount of bill statement (NT dollar). X12 = amount of bill statement in September, 2005; X13 = amount of bill statement in August, 2005; . . .; X17 = amount of bill statement in April, 2005.\n",
    "X18-X23: Amount of previous payment (NT dollar). X18 = amount paid in September, 2005; X19 = amount paid in August, 2005; . . .;X23 = amount paid in April, 2005.\n",
    "\n",
    "\"\"\""
   ]
  },
  {
   "cell_type": "code",
   "execution_count": 11,
   "metadata": {},
   "outputs": [
    {
     "data": {
      "text/plain": [
       "ID\n",
       "1        1\n",
       "2        1\n",
       "3        0\n",
       "4        0\n",
       "5        0\n",
       "        ..\n",
       "29996    0\n",
       "29997    0\n",
       "29998    1\n",
       "29999    1\n",
       "30000    1\n",
       "Name: default, Length: 30000, dtype: int64"
      ]
     },
     "execution_count": 11,
     "metadata": {},
     "output_type": "execute_result"
    }
   ],
   "source": [
    "df[\"default\"]"
   ]
  },
  {
   "cell_type": "code",
   "execution_count": 13,
   "metadata": {},
   "outputs": [
    {
     "name": "stderr",
     "output_type": "stream",
     "text": [
      "C:\\Users\\surajp\\miniconda3\\envs\\realad\\lib\\site-packages\\seaborn\\distributions.py:2619: FutureWarning: `distplot` is a deprecated function and will be removed in a future version. Please adapt your code to use either `displot` (a figure-level function with similar flexibility) or `histplot` (an axes-level function for histograms).\n",
      "  warnings.warn(msg, FutureWarning)\n"
     ]
    },
    {
     "data": {
      "image/png": "[encoded data removed]",
      "text/plain": [
       "<Figure size 1080x576 with 1 Axes>"
      ]
     },
     "metadata": {
      "needs_background": "light"
     },
     "output_type": "display_data"
    }
   ],
   "source": [
    "plt.figure(figsize=(15,8))\n",
    "sns.distplot(df[\"credit_score\"])\n",
    "plt.savefig('income.png', facecolor='w', bbox_inches='tight')\n",
    "plt.show()"
   ]
  },
  {
   "cell_type": "code",
   "execution_count": 14,
   "metadata": {},
   "outputs": [
    {
     "name": "stderr",
     "output_type": "stream",
     "text": [
      "C:\\Users\\surajp\\miniconda3\\envs\\realad\\lib\\site-packages\\seaborn\\distributions.py:2619: FutureWarning: `distplot` is a deprecated function and will be removed in a future version. Please adapt your code to use either `displot` (a figure-level function with similar flexibility) or `histplot` (an axes-level function for histograms).\n",
      "  warnings.warn(msg, FutureWarning)\n"
     ]
    },
    {
     "data": {
      "image/png": "[encoded data removed]",
      "text/plain": [
       "<Figure size 1080x576 with 1 Axes>"
      ]
     },
     "metadata": {
      "needs_background": "light"
     },
     "output_type": "display_data"
    }
   ],
   "source": [
    "plt.figure(figsize=(15,8))\n",
    "sns.distplot(df[\"SEX\"])\n",
    "plt.show()"
   ]
  },
  {
   "cell_type": "code",
   "execution_count": 17,
   "metadata": {},
   "outputs": [
    {
     "name": "stderr",
     "output_type": "stream",
     "text": [
      "C:\\Users\\surajp\\miniconda3\\envs\\realad\\lib\\site-packages\\seaborn\\distributions.py:2619: FutureWarning: `distplot` is a deprecated function and will be removed in a future version. Please adapt your code to use either `displot` (a figure-level function with similar flexibility) or `histplot` (an axes-level function for histograms).\n",
      "  warnings.warn(msg, FutureWarning)\n",
      "C:\\Users\\surajp\\miniconda3\\envs\\realad\\lib\\site-packages\\seaborn\\distributions.py:2619: FutureWarning: `distplot` is a deprecated function and will be removed in a future version. Please adapt your code to use either `displot` (a figure-level function with similar flexibility) or `histplot` (an axes-level function for histograms).\n",
      "  warnings.warn(msg, FutureWarning)\n"
     ]
    },
    {
     "data": {
      "image/png": "[encoded data removed]",
      "text/plain": [
       "<Figure size 1080x576 with 1 Axes>"
      ]
     },
     "metadata": {
      "needs_background": "light"
     },
     "output_type": "display_data"
    }
   ],
   "source": [
    "plt.figure(figsize=(15,8))\n",
    "sns.distplot(df[df[\"default\"]==1][\"credit_score\"], label='default')\n",
    "sns.distplot(df[df[\"default\"]==0][\"credit_score\"], label='no default')\n",
    "plt.legend()\n",
    "plt.show()"
   ]
  },
  {
   "cell_type": "code",
   "execution_count": 18,
   "metadata": {},
   "outputs": [
    {
     "data": {
      "text/plain": [
       "array([2, 1], dtype=int64)"
      ]
     },
     "execution_count": 18,
     "metadata": {},
     "output_type": "execute_result"
    }
   ],
   "source": [
    "df[\"SEX\"].unique()"
   ]
  },
  {
   "cell_type": "code",
   "execution_count": 19,
   "metadata": {},
   "outputs": [],
   "source": [
    "# Education has only 4 categorical levels, removing columns with higher values\n",
    "df = df[df[\"EDUCATION\"]<=4]"
   ]
  },
  {
   "cell_type": "code",
   "execution_count": 312,
   "metadata": {},
   "outputs": [],
   "source": [
    "pay_cols = [\"PAY_0\", \"PAY_2\", \"PAY_3\", \"PAY_4\", \"PAY_5\", \"PAY_6\"]\n",
    "\n",
    "categorical_columns = [\"SEX\", \"EDUCATION\", \"MARRIAGE\"] + pay_cols\n",
    "continuous_columns = [c for c in df.columns if c not in categorical_columns + [\"default\"]]\n",
    "target_col = \"default\""
   ]
  },
  {
   "cell_type": "code",
   "execution_count": 315,
   "metadata": {},
   "outputs": [],
   "source": [
    "# male=1, female=2 => male=1, female=0\n",
    "df[\"feature_SEX\"] = (df[\"SEX\"] == 1)\n",
    "df[\"feature_MARRIAGE\"] = (df[\"MARRIAGE\"] == 1)\n",
    "\n",
    "# Education encoding\n",
    "edu_encoder = OneHotEncoder()\n",
    "df[[\"edu_0\", \"edu_1\", \"edu_2\", \"edu_3\", \"edu_4\"]] = edu_encoder.fit_transform(df[\"EDUCATION\"].values.reshape(-1, 1)).toarray()\n",
    "\n",
    "# encoding the columns having categorical values for pyment due\n",
    "enc = OneHotEncoder()\n",
    "enc.fit(df[pay_cols[0]].values.reshape(-1, 1))\n",
    "\n",
    "for col in pay_cols:\n",
    "    df[[f\"PAY_{col[-1]}_{ix}\" for ix in range(-2, 9)]] = enc.transform(df[col].values.reshape(-1, 1)).toarray()\n",
    "\n",
    "# Encoding marrige column\n",
    "\n",
    "#marrige_encoder = OneHotEncoder()\n",
    "#df[[\"marriage_0\", \"marriage_1\", \"marriage_2\", \"marriage_3\"]] = marrige_encoder.fit_transform(df[\"MARRIAGE\"].values.reshape(-1, 1)).toarray()"
   ]
  },
  {
   "cell_type": "code",
   "execution_count": 216,
   "metadata": {},
   "outputs": [],
   "source": [
    "bill_cols = [c for c in df.columns if \"BILL_AMT\" in c][:-1]\n",
    "pay_amt_cols = [c for c in df.columns if \"PAY_AMT\" in c][1:]\n",
    "\n",
    "zero_payments = df[df[bill_cols].sum(1)==0]\n",
    "df = df.drop(zero_payments.index, axis=0)\n",
    "\n",
    "neg_bill = df[df[bill_cols].sum(1)<0]\n",
    "df = df.drop(neg_bill.index, axis=0)\n",
    "\n",
    "pay2bill = ((df[pay_amt_cols].sum(1).values)/(df[bill_cols].sum(1)))\n",
    "df[\"pay_bill_rat\"] = pay2bill\n",
    "\n",
    "df = df[df[\"pay_bill_rat\"]<=2]"
   ]
  },
  {
   "cell_type": "code",
   "execution_count": 382,
   "metadata": {},
   "outputs": [],
   "source": [
    "feature_names = [f for f in df.columns if f not in categorical_columns+[\"default\"]]"
   ]
  },
  {
   "cell_type": "code",
   "execution_count": 383,
   "metadata": {},
   "outputs": [
    {
     "data": {
      "text/plain": [
       "['credit_score',\n",
       " 'AGE',\n",
       " 'BILL_AMT1',\n",
       " 'BILL_AMT2',\n",
       " 'BILL_AMT3',\n",
       " 'BILL_AMT4',\n",
       " 'BILL_AMT5',\n",
       " 'BILL_AMT6',\n",
       " 'PAY_AMT1',\n",
       " 'PAY_AMT2',\n",
       " 'PAY_AMT3',\n",
       " 'PAY_AMT4',\n",
       " 'PAY_AMT5',\n",
       " 'PAY_AMT6',\n",
       " 'feature_SEX',\n",
       " 'feature_MARRIAGE',\n",
       " 'pay_bill_rat',\n",
       " 'edu_0',\n",
       " 'edu_1',\n",
       " 'edu_2',\n",
       " 'edu_3',\n",
       " 'edu_4',\n",
       " 'PAY_0_-2',\n",
       " 'PAY_0_-1',\n",
       " 'PAY_0_0',\n",
       " 'PAY_0_1',\n",
       " 'PAY_0_2',\n",
       " 'PAY_0_3',\n",
       " 'PAY_0_4',\n",
       " 'PAY_0_5',\n",
       " 'PAY_0_6',\n",
       " 'PAY_0_7',\n",
       " 'PAY_0_8',\n",
       " 'PAY_2_-2',\n",
       " 'PAY_2_-1',\n",
       " 'PAY_2_0',\n",
       " 'PAY_2_1',\n",
       " 'PAY_2_2',\n",
       " 'PAY_2_3',\n",
       " 'PAY_2_4',\n",
       " 'PAY_2_5',\n",
       " 'PAY_2_6',\n",
       " 'PAY_2_7',\n",
       " 'PAY_2_8',\n",
       " 'PAY_3_-2',\n",
       " 'PAY_3_-1',\n",
       " 'PAY_3_0',\n",
       " 'PAY_3_1',\n",
       " 'PAY_3_2',\n",
       " 'PAY_3_3',\n",
       " 'PAY_3_4',\n",
       " 'PAY_3_5',\n",
       " 'PAY_3_6',\n",
       " 'PAY_3_7',\n",
       " 'PAY_3_8',\n",
       " 'PAY_4_-2',\n",
       " 'PAY_4_-1',\n",
       " 'PAY_4_0',\n",
       " 'PAY_4_1',\n",
       " 'PAY_4_2',\n",
       " 'PAY_4_3',\n",
       " 'PAY_4_4',\n",
       " 'PAY_4_5',\n",
       " 'PAY_4_6',\n",
       " 'PAY_4_7',\n",
       " 'PAY_4_8',\n",
       " 'PAY_5_-2',\n",
       " 'PAY_5_-1',\n",
       " 'PAY_5_0',\n",
       " 'PAY_5_1',\n",
       " 'PAY_5_2',\n",
       " 'PAY_5_3',\n",
       " 'PAY_5_4',\n",
       " 'PAY_5_5',\n",
       " 'PAY_5_6',\n",
       " 'PAY_5_7',\n",
       " 'PAY_5_8',\n",
       " 'PAY_6_-2',\n",
       " 'PAY_6_-1',\n",
       " 'PAY_6_0',\n",
       " 'PAY_6_1',\n",
       " 'PAY_6_2',\n",
       " 'PAY_6_3',\n",
       " 'PAY_6_4',\n",
       " 'PAY_6_5',\n",
       " 'PAY_6_6',\n",
       " 'PAY_6_7',\n",
       " 'PAY_6_8']"
      ]
     },
     "execution_count": 383,
     "metadata": {},
     "output_type": "execute_result"
    }
   ],
   "source": [
    "feature_names"
   ]
  },
  {
   "cell_type": "code",
   "execution_count": 385,
   "metadata": {},
   "outputs": [],
   "source": [
    "X = df.drop([\"default\"], axis=1).astype(float)\n",
    "y = df[\"default\"].astype(float)"
   ]
  },
  {
   "cell_type": "code",
   "execution_count": 386,
   "metadata": {},
   "outputs": [
    {
     "data": {
      "text/plain": [
       "0.21962972356074056"
      ]
     },
     "execution_count": 386,
     "metadata": {},
     "output_type": "execute_result"
    }
   ],
   "source": [
    "(df[\"default\"]==1).mean()"
   ]
  },
  {
   "cell_type": "code",
   "execution_count": 387,
   "metadata": {},
   "outputs": [],
   "source": [
    "continuous_cols = ['credit_score', 'AGE', 'pay_bill_rat']\n",
    "descret_cols = [\"EDUCATION\", \"feature_MARRIAGE\"]\n",
    "\n",
    "to_normalize = continuous_cols + descret_cols"
   ]
  },
  {
   "cell_type": "markdown",
   "metadata": {},
   "source": [
    "## Experiment with Cross Validation"
   ]
  },
  {
   "cell_type": "code",
   "execution_count": 234,
   "metadata": {},
   "outputs": [],
   "source": [
    "feature_names = ['credit_score', 'AGE', 'feature_SEX', 'EDUCATION', 'feature_MARRIAGE', 'pay_bill_rat']\n",
    "feature_names = ['pay_bill_rat']"
   ]
  },
  {
   "cell_type": "code",
   "execution_count": 398,
   "metadata": {},
   "outputs": [
    {
     "name": "stdout",
     "output_type": "stream",
     "text": [
      "(5520, 88) (22081, 88) (5520,) (22081,)\n",
      "0.2157608695652174\n"
     ]
    }
   ],
   "source": [
    "X_train, X_test, y_train, y_test = train_test_split(X, y, test_size=0.8, shuffle=True)\n",
    "\n",
    "\n",
    "sc = MinMaxScaler()\n",
    "X_train = sc.fit_transform(X_train[feature_names])\n",
    "X_test = sc.transform(X_test[feature_names])\n",
    "\n",
    "#X_train[to_normalize] = sc.fit_transform(X_train[to_normalize])\n",
    "#X_test[to_normalize] = sc.transform(X_test[to_normalize])\n",
    "\n",
    "print(X_train.shape, X_test.shape, y_train.shape, y_test.shape)\n",
    "print(y_train.mean())"
   ]
  },
  {
   "cell_type": "code",
   "execution_count": 393,
   "metadata": {},
   "outputs": [],
   "source": [
    "def get_model():\n",
    "    model = models.Sequential()\n",
    "    model.add(L.Dense(16, input_dim = (len(feature_names)), activation=\"relu\"))\n",
    "    model.add(L.Dense(1, activation=\"sigmoid\"))\n",
    "\n",
    "    opt = tf.keras.optimizers.Adam(learning_rate=0.003)\n",
    "    model.compile(optimizer=opt, loss=\"binary_crossentropy\", metrics=[\"accuracy\", \"AUC\"])\n",
    "\n",
    "    return model"
   ]
  },
  {
   "cell_type": "code",
   "execution_count": 394,
   "metadata": {},
   "outputs": [
    {
     "name": "stdout",
     "output_type": "stream",
     "text": [
      "Model: \"sequential_39\"\n",
      "_________________________________________________________________\n",
      "Layer (type)                 Output Shape              Param #   \n",
      "=================================================================\n",
      "dense_100 (Dense)            (None, 16)                1424      \n",
      "_________________________________________________________________\n",
      "dense_101 (Dense)            (None, 1)                 17        \n",
      "=================================================================\n",
      "Total params: 1,441\n",
      "Trainable params: 1,441\n",
      "Non-trainable params: 0\n",
      "_________________________________________________________________\n"
     ]
    }
   ],
   "source": [
    "model = get_model()\n",
    "model.summary()"
   ]
  },
  {
   "cell_type": "code",
   "execution_count": 403,
   "metadata": {},
   "outputs": [
    {
     "name": "stdout",
     "output_type": "stream",
     "text": [
      "[1104 1105 1106 ... 5517 5518 5519] [   0    1    2 ... 1101 1102 1103]\n",
      "4416 1104\n",
      "(4416, 88)\n",
      "35/35 [==============================] - 0s 941us/step - loss: 0.4417 - accuracy: 0.8143 - auc: 0.7623\n",
      "[0.4416883587837219, 0.8143116235733032, 0.762292206287384]\n",
      "[   0    1    2 ... 5517 5518 5519] [1104 1105 1106 ... 2205 2206 2207]\n",
      "4416 1104\n",
      "(4416, 88)\n",
      "35/35 [==============================] - 0s 1ms/step - loss: 0.4480 - accuracy: 0.8071 - auc: 0.7590\n",
      "[0.4479840099811554, 0.8070651888847351, 0.7589523196220398]\n",
      "[   0    1    2 ... 5517 5518 5519] [2208 2209 2210 ... 3309 3310 3311]\n",
      "4416 1104\n",
      "(4416, 88)\n",
      "35/35 [==============================] - 0s 1ms/step - loss: 0.4214 - accuracy: 0.8406 - auc: 0.7675\n",
      "[0.4213992953300476, 0.8405796885490417, 0.7674560546875]\n",
      "[   0    1    2 ... 5517 5518 5519] [3312 3313 3314 ... 4413 4414 4415]\n",
      "4416 1104\n",
      "(4416, 88)\n",
      "35/35 [==============================] - 0s 1ms/step - loss: 0.4470 - accuracy: 0.8080 - auc: 0.7617\n",
      "[0.44697439670562744, 0.8079710006713867, 0.7616540193557739]\n",
      "[   0    1    2 ... 4413 4414 4415] [4416 4417 4418 ... 5517 5518 5519]\n",
      "4416 1104\n",
      "(4416, 88)\n",
      "35/35 [==============================] - 0s 1ms/step - loss: 0.4637 - accuracy: 0.8043 - auc: 0.7408\n",
      "[0.46368691325187683, 0.804347813129425, 0.7408082485198975]\n"
     ]
    }
   ],
   "source": [
    "folds = KFold(n_splits=5)\n",
    "#folds = LeaveOneOut()\n",
    "\n",
    "hist_arr = []\n",
    "models_arr = []\n",
    "validation_metrics =[]\n",
    "\n",
    "X_train, y_train = pd.DataFrame(X_train), pd.DataFrame(y_train)\n",
    "for train_idx, val_idx in folds.split(X_train, y_train):\n",
    "    print(train_idx, val_idx)\n",
    "    print(len(train_idx), len(val_idx))\n",
    "\n",
    "    X_tr, y_tr = X_train.iloc[train_idx], y_train.iloc[train_idx]\n",
    "    X_val, y_val = X_train.iloc[val_idx], y_train.iloc[val_idx]\n",
    "\n",
    "\n",
    "    print(X_tr.shape)\n",
    "    model = get_model()\n",
    "\n",
    "    hist = model.fit(X_tr, y_tr, epochs=20, validation_data=(X_val, y_val), verbose=0)\n",
    "    hist_arr.append(hist)\n",
    "    models_arr.append(model)\n",
    "\n",
    "    model_scores = model.evaluate(X_val, y_val)\n",
    "    print(model_scores)\n",
    "    validation_metrics.append(model_scores)"
   ]
  },
  {
   "cell_type": "code",
   "execution_count": 404,
   "metadata": {},
   "outputs": [],
   "source": [
    "from sklearn.ensemble import RandomForestClassifier, GradientBoostingClassifier\n",
    "from sklearn.linear_model import LogisticRegression"
   ]
  },
  {
   "cell_type": "code",
   "execution_count": 359,
   "metadata": {},
   "outputs": [
    {
     "data": {
      "text/plain": [
       "RandomForestClassifier(bootstrap=True, ccp_alpha=0.0, class_weight=None,\n",
       "                       criterion='gini', max_depth=None, max_features='auto',\n",
       "                       max_leaf_nodes=None, max_samples=None,\n",
       "                       min_impurity_decrease=0.0, min_impurity_split=None,\n",
       "                       min_samples_leaf=1, min_samples_split=2,\n",
       "                       min_weight_fraction_leaf=0.0, n_estimators=100,\n",
       "                       n_jobs=None, oob_score=False, random_state=None,\n",
       "                       verbose=0, warm_start=False)"
      ]
     },
     "execution_count": 359,
     "metadata": {},
     "output_type": "execute_result"
    }
   ],
   "source": [
    "reg = RandomForestClassifier()\n",
    "reg.fit(X_train, y_train)"
   ]
  },
  {
   "cell_type": "code",
   "execution_count": 350,
   "metadata": {},
   "outputs": [
    {
     "name": "stdout",
     "output_type": "stream",
     "text": [
      "Epoch 1/50\n",
      "432/432 [==============================] - 2s 4ms/step - loss: 0.4429 - accuracy: 0.8138 - auc: 0.7524 - val_loss: 0.4263 - val_accuracy: 0.8295 - val_auc: 0.7693\n",
      "Epoch 2/50\n",
      "432/432 [==============================] - 1s 3ms/step - loss: 0.4268 - accuracy: 0.8262 - auc: 0.7758 - val_loss: 0.4245 - val_accuracy: 0.8277 - val_auc: 0.7740\n",
      "Epoch 3/50\n",
      "432/432 [==============================] - 1s 3ms/step - loss: 0.4246 - accuracy: 0.8252 - auc: 0.7768 - val_loss: 0.4274 - val_accuracy: 0.8266 - val_auc: 0.7740\n",
      "Epoch 4/50\n",
      "432/432 [==============================] - 1s 3ms/step - loss: 0.4230 - accuracy: 0.8265 - auc: 0.7804 - val_loss: 0.4249 - val_accuracy: 0.8278 - val_auc: 0.7771\n",
      "Epoch 5/50\n",
      "432/432 [==============================] - 1s 3ms/step - loss: 0.4218 - accuracy: 0.8266 - auc: 0.7827 - val_loss: 0.4250 - val_accuracy: 0.8278 - val_auc: 0.7761\n",
      "Epoch 6/50\n",
      "432/432 [==============================] - 1s 3ms/step - loss: 0.4209 - accuracy: 0.8270 - auc: 0.7834 - val_loss: 0.4304 - val_accuracy: 0.8286 - val_auc: 0.7779\n",
      "Epoch 7/50\n",
      "432/432 [==============================] - 1s 3ms/step - loss: 0.4201 - accuracy: 0.8276 - auc: 0.7848 - val_loss: 0.4255 - val_accuracy: 0.8283 - val_auc: 0.7777\n",
      "Epoch 8/50\n",
      "432/432 [==============================] - 1s 3ms/step - loss: 0.4202 - accuracy: 0.8270 - auc: 0.7852 - val_loss: 0.4245 - val_accuracy: 0.8273 - val_auc: 0.7770\n",
      "Epoch 9/50\n",
      "432/432 [==============================] - 1s 3ms/step - loss: 0.4190 - accuracy: 0.8274 - auc: 0.7871 - val_loss: 0.4258 - val_accuracy: 0.8272 - val_auc: 0.7765\n",
      "Epoch 10/50\n",
      "432/432 [==============================] - 1s 3ms/step - loss: 0.4170 - accuracy: 0.8284 - auc: 0.7888 - val_loss: 0.4262 - val_accuracy: 0.8258 - val_auc: 0.7775\n",
      "Epoch 11/50\n",
      "432/432 [==============================] - 1s 2ms/step - loss: 0.4176 - accuracy: 0.8275 - auc: 0.7876 - val_loss: 0.4273 - val_accuracy: 0.8270 - val_auc: 0.7767\n",
      "Epoch 12/50\n",
      "432/432 [==============================] - 1s 2ms/step - loss: 0.4180 - accuracy: 0.8282 - auc: 0.7872 - val_loss: 0.4267 - val_accuracy: 0.8264 - val_auc: 0.7786\n",
      "Epoch 13/50\n",
      "432/432 [==============================] - 1s 3ms/step - loss: 0.4154 - accuracy: 0.8291 - auc: 0.7911 - val_loss: 0.4260 - val_accuracy: 0.8272 - val_auc: 0.7779\n",
      "Epoch 14/50\n",
      "432/432 [==============================] - 1s 2ms/step - loss: 0.4156 - accuracy: 0.8281 - auc: 0.7906 - val_loss: 0.4270 - val_accuracy: 0.8254 - val_auc: 0.7771\n",
      "Epoch 15/50\n",
      "432/432 [==============================] - 1s 3ms/step - loss: 0.4150 - accuracy: 0.8288 - auc: 0.7919 - val_loss: 0.4272 - val_accuracy: 0.8266 - val_auc: 0.7786\n",
      "Epoch 16/50\n",
      "432/432 [==============================] - 1s 3ms/step - loss: 0.4148 - accuracy: 0.8305 - auc: 0.7916 - val_loss: 0.4265 - val_accuracy: 0.8258 - val_auc: 0.7776\n",
      "Epoch 17/50\n",
      "432/432 [==============================] - 1s 3ms/step - loss: 0.4140 - accuracy: 0.8297 - auc: 0.7931 - val_loss: 0.4274 - val_accuracy: 0.8243 - val_auc: 0.7778\n",
      "Epoch 18/50\n",
      "432/432 [==============================] - 1s 3ms/step - loss: 0.4139 - accuracy: 0.8301 - auc: 0.7929 - val_loss: 0.4323 - val_accuracy: 0.8235 - val_auc: 0.7733\n",
      "Epoch 19/50\n",
      "432/432 [==============================] - 1s 3ms/step - loss: 0.4132 - accuracy: 0.8301 - auc: 0.7936 - val_loss: 0.4277 - val_accuracy: 0.8260 - val_auc: 0.7766\n",
      "Epoch 20/50\n",
      "432/432 [==============================] - 1s 3ms/step - loss: 0.4125 - accuracy: 0.8307 - auc: 0.7945 - val_loss: 0.4293 - val_accuracy: 0.8258 - val_auc: 0.7732\n",
      "Epoch 21/50\n",
      "432/432 [==============================] - 1s 3ms/step - loss: 0.4114 - accuracy: 0.8312 - auc: 0.7973 - val_loss: 0.4296 - val_accuracy: 0.8254 - val_auc: 0.7742\n",
      "Epoch 22/50\n",
      "432/432 [==============================] - 1s 3ms/step - loss: 0.4115 - accuracy: 0.8306 - auc: 0.7967 - val_loss: 0.4282 - val_accuracy: 0.8257 - val_auc: 0.7751\n",
      "Epoch 23/50\n",
      "432/432 [==============================] - 1s 3ms/step - loss: 0.4112 - accuracy: 0.8291 - auc: 0.7972 - val_loss: 0.4397 - val_accuracy: 0.8241 - val_auc: 0.7777\n",
      "Epoch 24/50\n",
      "432/432 [==============================] - 1s 3ms/step - loss: 0.4114 - accuracy: 0.8318 - auc: 0.7960 - val_loss: 0.4297 - val_accuracy: 0.8261 - val_auc: 0.7767\n",
      "Epoch 25/50\n",
      "432/432 [==============================] - 1s 3ms/step - loss: 0.4102 - accuracy: 0.8318 - auc: 0.7977 - val_loss: 0.4288 - val_accuracy: 0.8228 - val_auc: 0.7757\n",
      "Epoch 26/50\n",
      "432/432 [==============================] - 1s 3ms/step - loss: 0.4094 - accuracy: 0.8323 - auc: 0.7987 - val_loss: 0.4302 - val_accuracy: 0.8234 - val_auc: 0.7766\n",
      "Epoch 27/50\n",
      "432/432 [==============================] - 1s 3ms/step - loss: 0.4093 - accuracy: 0.8320 - auc: 0.7984 - val_loss: 0.4282 - val_accuracy: 0.8252 - val_auc: 0.7772\n",
      "Epoch 28/50\n",
      "432/432 [==============================] - 1s 3ms/step - loss: 0.4089 - accuracy: 0.8311 - auc: 0.8002 - val_loss: 0.4286 - val_accuracy: 0.8235 - val_auc: 0.7771\n",
      "Epoch 29/50\n",
      "432/432 [==============================] - 1s 3ms/step - loss: 0.4082 - accuracy: 0.8317 - auc: 0.8017 - val_loss: 0.4300 - val_accuracy: 0.8238 - val_auc: 0.7758\n",
      "Epoch 30/50\n",
      "432/432 [==============================] - 1s 3ms/step - loss: 0.4078 - accuracy: 0.8321 - auc: 0.8010 - val_loss: 0.4333 - val_accuracy: 0.8247 - val_auc: 0.7707\n",
      "Epoch 31/50\n",
      "432/432 [==============================] - 1s 3ms/step - loss: 0.4077 - accuracy: 0.8329 - auc: 0.8012 - val_loss: 0.4323 - val_accuracy: 0.8241 - val_auc: 0.7724\n",
      "Epoch 32/50\n",
      "432/432 [==============================] - 1s 3ms/step - loss: 0.4079 - accuracy: 0.8333 - auc: 0.8009 - val_loss: 0.4314 - val_accuracy: 0.8229 - val_auc: 0.7762\n",
      "Epoch 33/50\n",
      "432/432 [==============================] - 1s 3ms/step - loss: 0.4068 - accuracy: 0.8324 - auc: 0.8024 - val_loss: 0.4319 - val_accuracy: 0.8235 - val_auc: 0.7733\n",
      "Epoch 34/50\n",
      "432/432 [==============================] - 1s 3ms/step - loss: 0.4059 - accuracy: 0.8339 - auc: 0.8040 - val_loss: 0.4367 - val_accuracy: 0.8236 - val_auc: 0.7723\n",
      "Epoch 35/50\n",
      "432/432 [==============================] - 1s 3ms/step - loss: 0.4063 - accuracy: 0.8319 - auc: 0.8033 - val_loss: 0.4345 - val_accuracy: 0.8228 - val_auc: 0.7713\n",
      "Epoch 36/50\n",
      "432/432 [==============================] - 1s 3ms/step - loss: 0.4061 - accuracy: 0.8335 - auc: 0.8041 - val_loss: 0.4362 - val_accuracy: 0.8238 - val_auc: 0.7750\n",
      "Epoch 37/50\n",
      "432/432 [==============================] - 1s 2ms/step - loss: 0.4053 - accuracy: 0.8331 - auc: 0.8049 - val_loss: 0.4355 - val_accuracy: 0.8248 - val_auc: 0.7734\n",
      "Epoch 38/50\n",
      "432/432 [==============================] - 1s 3ms/step - loss: 0.4055 - accuracy: 0.8333 - auc: 0.8040 - val_loss: 0.4323 - val_accuracy: 0.8233 - val_auc: 0.7758\n",
      "Epoch 39/50\n",
      "432/432 [==============================] - 1s 3ms/step - loss: 0.4045 - accuracy: 0.8351 - auc: 0.8052 - val_loss: 0.4336 - val_accuracy: 0.8236 - val_auc: 0.7766\n",
      "Epoch 40/50\n",
      "432/432 [==============================] - 1s 3ms/step - loss: 0.4047 - accuracy: 0.8341 - auc: 0.8051 - val_loss: 0.4335 - val_accuracy: 0.8244 - val_auc: 0.7750\n",
      "Epoch 41/50\n",
      "432/432 [==============================] - 1s 3ms/step - loss: 0.4047 - accuracy: 0.8345 - auc: 0.8060 - val_loss: 0.4354 - val_accuracy: 0.8239 - val_auc: 0.7749\n",
      "Epoch 42/50\n",
      "432/432 [==============================] - 1s 3ms/step - loss: 0.4041 - accuracy: 0.8333 - auc: 0.8059 - val_loss: 0.4332 - val_accuracy: 0.8225 - val_auc: 0.7741\n",
      "Epoch 43/50\n",
      "432/432 [==============================] - 1s 3ms/step - loss: 0.4044 - accuracy: 0.8346 - auc: 0.8059 - val_loss: 0.4328 - val_accuracy: 0.8217 - val_auc: 0.7742\n",
      "Epoch 44/50\n",
      "432/432 [==============================] - 1s 3ms/step - loss: 0.4039 - accuracy: 0.8322 - auc: 0.8065 - val_loss: 0.4356 - val_accuracy: 0.8236 - val_auc: 0.7705\n",
      "Epoch 45/50\n",
      "432/432 [==============================] - 1s 3ms/step - loss: 0.4042 - accuracy: 0.8340 - auc: 0.8057 - val_loss: 0.4371 - val_accuracy: 0.8225 - val_auc: 0.7734\n",
      "Epoch 46/50\n",
      "432/432 [==============================] - 1s 3ms/step - loss: 0.4029 - accuracy: 0.8346 - auc: 0.8069 - val_loss: 0.4378 - val_accuracy: 0.8232 - val_auc: 0.7663\n",
      "Epoch 47/50\n",
      "432/432 [==============================] - 1s 3ms/step - loss: 0.4034 - accuracy: 0.8346 - auc: 0.8062 - val_loss: 0.4395 - val_accuracy: 0.8244 - val_auc: 0.7733\n",
      "Epoch 48/50\n",
      "432/432 [==============================] - 1s 2ms/step - loss: 0.4033 - accuracy: 0.8345 - auc: 0.8075 - val_loss: 0.4340 - val_accuracy: 0.8234 - val_auc: 0.7734\n",
      "Epoch 49/50\n",
      "432/432 [==============================] - 1s 2ms/step - loss: 0.4017 - accuracy: 0.8351 - auc: 0.8083 - val_loss: 0.4348 - val_accuracy: 0.8235 - val_auc: 0.7723\n",
      "Epoch 50/50\n",
      "432/432 [==============================] - 1s 2ms/step - loss: 0.4025 - accuracy: 0.8344 - auc: 0.8073 - val_loss: 0.4374 - val_accuracy: 0.8223 - val_auc: 0.7736\n"
     ]
    }
   ],
   "source": [
    "hist = model.fit(X_train, y_train, epochs=50, validation_data=(X_test, y_test))"
   ]
  },
  {
   "cell_type": "code",
   "execution_count": 351,
   "metadata": {},
   "outputs": [
    {
     "data": {
      "text/plain": [
       "array([[<AxesSubplot:title={'center':'0'}>]], dtype=object)"
      ]
     },
     "execution_count": 351,
     "metadata": {},
     "output_type": "execute_result"
    },
    {
     "data": {
      "image/png": "[encoded data removed]",
      "text/plain": [
       "<Figure size 432x288 with 1 Axes>"
      ]
     },
     "metadata": {
      "needs_background": "light"
     },
     "output_type": "display_data"
    }
   ],
   "source": [
    "pd.DataFrame(model.predict(X_train)).hist()"
   ]
  },
  {
   "cell_type": "code",
   "execution_count": 352,
   "metadata": {},
   "outputs": [
    {
     "data": {
      "text/plain": [
       "array([[<AxesSubplot:title={'center':'0'}>]], dtype=object)"
      ]
     },
     "execution_count": 352,
     "metadata": {},
     "output_type": "execute_result"
    },
    {
     "data": {
      "image/png": "[encoded data removed]",
      "text/plain": [
       "<Figure size 432x288 with 1 Axes>"
      ]
     },
     "metadata": {
      "needs_background": "light"
     },
     "output_type": "display_data"
    }
   ],
   "source": [
    "pd.DataFrame(model.predict(X_test)).hist()"
   ]
  },
  {
   "cell_type": "code",
   "execution_count": 353,
   "metadata": {},
   "outputs": [
    {
     "data": {
      "image/png": "[encoded data removed]",
      "text/plain": [
       "<Figure size 432x288 with 1 Axes>"
      ]
     },
     "metadata": {
      "needs_background": "light"
     },
     "output_type": "display_data"
    }
   ],
   "source": [
    "plt.plot(hist.history['accuracy'])\n",
    "plt.plot(hist.history['val_accuracy'])\n",
    "plt.title('model accuracy')\n",
    "plt.ylabel('accuracy')\n",
    "plt.xlabel('epoch')\n",
    "plt.legend(['train', 'val'], loc='upper left')\n",
    "plt.show()"
   ]
  },
  {
   "cell_type": "code",
   "execution_count": 354,
   "metadata": {},
   "outputs": [
    {
     "data": {
      "image/png": "[encoded data removed]",
      "text/plain": [
       "<Figure size 432x288 with 1 Axes>"
      ]
     },
     "metadata": {
      "needs_background": "light"
     },
     "output_type": "display_data"
    }
   ],
   "source": [
    "plt.plot(hist.history['loss'])\n",
    "plt.plot(hist.history['val_loss'])\n",
    "plt.title('model loss')\n",
    "plt.ylabel('loss')\n",
    "plt.xlabel('epoch')\n",
    "plt.legend(['train', 'val'], loc='upper left')\n",
    "plt.show()"
   ]
  },
  {
   "cell_type": "code",
   "execution_count": 372,
   "metadata": {},
   "outputs": [
    {
     "data": {
      "image/png": "[encoded data removed]",
      "text/plain": [
       "<Figure size 432x288 with 2 Axes>"
      ]
     },
     "metadata": {
      "needs_background": "light"
     },
     "output_type": "display_data"
    }
   ],
   "source": [
    "test_preds = model.predict(X_test).reshape(-1, 1)\n",
    "test_preds = (test_preds>=0.5).astype(int)\n",
    "\n",
    "cm = metrics.confusion_matrix(y_test, test_preds, normalize=\"all\")\n",
    "disp = metrics.ConfusionMatrixDisplay(confusion_matrix=cm, display_labels=[0, 1])\n",
    "disp.plot()\n",
    "plt.show()"
   ]
  },
  {
   "cell_type": "code",
   "execution_count": 368,
   "metadata": {
    "pycharm": {
     "name": "#%%\n"
    }
   },
   "outputs": [
    {
     "data": {
      "image/png": "[encoded data removed]",
      "text/plain": [
       "<Figure size 432x288 with 2 Axes>"
      ]
     },
     "metadata": {
      "needs_background": "light"
     },
     "output_type": "display_data"
    }
   ],
   "source": [
    "test_preds = model.predict(X_train).reshape(-1, 1)\n",
    "test_preds = (test_preds>=0.5).astype(int)\n",
    "\n",
    "cm = metrics.confusion_matrix(y_train, test_preds, normalize=\"all\")\n",
    "disp = metrics.ConfusionMatrixDisplay(confusion_matrix=cm, display_labels=[0, 1])\n",
    "disp.plot()\n",
    "plt.show()"
   ]
  },
  {
   "cell_type": "code",
   "execution_count": 370,
   "metadata": {
    "collapsed": false,
    "pycharm": {
     "name": "#%%\n"
    }
   },
   "outputs": [
    {
     "data": {
      "text/plain": [
       "0.04193127411626685"
      ]
     },
     "execution_count": 370,
     "metadata": {},
     "output_type": "execute_result"
    }
   ],
   "source": [
    "test_preds = model.predict(X_train).reshape(-1, 1)\n",
    "test_preds = (test_preds>=0.5).astype(int)\n",
    "\n",
    "r2 = metrics.r2_score(y_train, test_preds)\n",
    "r2\n"
   ]
  },
  {
   "cell_type": "code",
   "execution_count": null,
   "metadata": {},
   "outputs": [],
   "source": []
  }
 ],
 "metadata": {
  "interpreter": {
   "hash": "58f07684d2132a1fc2f00d4554c5ca3bdaec90a3d4f48c6595c94b0595105893"
  },
  "kernelspec": {
   "display_name": "Python 3.8.0 64-bit ('realad': conda)",
   "name": "python3"
  },
  "language_info": {
   "codemirror_mode": {
    "name": "ipython",
    "version": 3
   },
   "file_extension": ".py",
   "mimetype": "text/x-python",
   "name": "python",
   "nbconvert_exporter": "python",
   "pygments_lexer": "ipython3",
   "version": "3.8.0"
  },
  "orig_nbformat": 4
 },
 "nbformat": 4,
 "nbformat_minor": 2
}
