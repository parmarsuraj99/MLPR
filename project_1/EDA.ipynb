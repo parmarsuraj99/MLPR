{
 "cells": [
  {
   "cell_type": "code",
   "execution_count": 417,
   "metadata": {},
   "outputs": [
    {
     "name": "stdout",
     "output_type": "stream",
     "text": [
      "0.5714025946899135\n"
     ]
    }
   ],
   "source": [
    "import gc\n",
    "\n",
    "import pandas as pd\n",
    "import matplotlib.pyplot as plt\n",
    "import numpy as np\n",
    "import seaborn as sns\n",
    "\n",
    "import random\n",
    "\n",
    "import sklearn\n",
    "from sklearn.preprocessing import StandardScaler, MinMaxScaler\n",
    "from sklearn.model_selection import train_test_split\n",
    "from sklearn.model_selection import KFold, LeaveOneOut, StratifiedKFold\n",
    "from sklearn import metrics\n",
    "\n",
    "from sklearn.preprocessing import OneHotEncoder\n",
    "from tensorflow.keras.utils import to_categorical\n",
    "import tensorflow as tf\n",
    "import tensorflow.keras.layers as L\n",
    "from tensorflow.keras import models\n",
    "\n",
    "random.seed(10)\n",
    "print(random.random()) "
   ]
  },
  {
   "cell_type": "code",
   "execution_count": 419,
   "metadata": {},
   "outputs": [
    {
     "name": "stdout",
     "output_type": "stream",
     "text": [
      "2.6.0\n",
      "1.21.2\n",
      "0.22\n",
      "1.3.3\n"
     ]
    }
   ],
   "source": [
    "print(tf.__version__)\n",
    "print(np.__version__)\n",
    "print(sklearn.__version__)\n",
    "print(pd.__version__)"
   ]
  },
  {
   "cell_type": "code",
   "execution_count": 2,
   "metadata": {},
   "outputs": [],
   "source": [
    "df = pd.read_excel(\"default of credit card clients.xls\", header=1).set_index(\"ID\")\n",
    "df = df.rename({\"default payment next month\": \"default\"}, axis=1)\n",
    "df = df.rename({\"LIMIT_BAL\": \"credit_score\"}, axis=1)\n",
    "df[\"credit_score\"]/=10000"
   ]
  },
  {
   "cell_type": "code",
   "execution_count": 3,
   "metadata": {},
   "outputs": [
    {
     "data": {
      "text/html": [
       "<div>\n",
       "<style scoped>\n",
       "    .dataframe tbody tr th:only-of-type {\n",
       "        vertical-align: middle;\n",
       "    }\n",
       "\n",
       "    .dataframe tbody tr th {\n",
       "        vertical-align: top;\n",
       "    }\n",
       "\n",
       "    .dataframe thead th {\n",
       "        text-align: right;\n",
       "    }\n",
       "</style>\n",
       "<table border=\"1\" class=\"dataframe\">\n",
       "  <thead>\n",
       "    <tr style=\"text-align: right;\">\n",
       "      <th></th>\n",
       "      <th>credit_score</th>\n",
       "      <th>SEX</th>\n",
       "      <th>EDUCATION</th>\n",
       "      <th>MARRIAGE</th>\n",
       "      <th>AGE</th>\n",
       "      <th>PAY_0</th>\n",
       "      <th>PAY_2</th>\n",
       "      <th>PAY_3</th>\n",
       "      <th>PAY_4</th>\n",
       "      <th>PAY_5</th>\n",
       "      <th>...</th>\n",
       "      <th>BILL_AMT4</th>\n",
       "      <th>BILL_AMT5</th>\n",
       "      <th>BILL_AMT6</th>\n",
       "      <th>PAY_AMT1</th>\n",
       "      <th>PAY_AMT2</th>\n",
       "      <th>PAY_AMT3</th>\n",
       "      <th>PAY_AMT4</th>\n",
       "      <th>PAY_AMT5</th>\n",
       "      <th>PAY_AMT6</th>\n",
       "      <th>default</th>\n",
       "    </tr>\n",
       "    <tr>\n",
       "      <th>ID</th>\n",
       "      <th></th>\n",
       "      <th></th>\n",
       "      <th></th>\n",
       "      <th></th>\n",
       "      <th></th>\n",
       "      <th></th>\n",
       "      <th></th>\n",
       "      <th></th>\n",
       "      <th></th>\n",
       "      <th></th>\n",
       "      <th></th>\n",
       "      <th></th>\n",
       "      <th></th>\n",
       "      <th></th>\n",
       "      <th></th>\n",
       "      <th></th>\n",
       "      <th></th>\n",
       "      <th></th>\n",
       "      <th></th>\n",
       "      <th></th>\n",
       "      <th></th>\n",
       "    </tr>\n",
       "  </thead>\n",
       "  <tbody>\n",
       "    <tr>\n",
       "      <th>1</th>\n",
       "      <td>2.0</td>\n",
       "      <td>2</td>\n",
       "      <td>2</td>\n",
       "      <td>1</td>\n",
       "      <td>24</td>\n",
       "      <td>2</td>\n",
       "      <td>2</td>\n",
       "      <td>-1</td>\n",
       "      <td>-1</td>\n",
       "      <td>-2</td>\n",
       "      <td>...</td>\n",
       "      <td>0</td>\n",
       "      <td>0</td>\n",
       "      <td>0</td>\n",
       "      <td>0</td>\n",
       "      <td>689</td>\n",
       "      <td>0</td>\n",
       "      <td>0</td>\n",
       "      <td>0</td>\n",
       "      <td>0</td>\n",
       "      <td>1</td>\n",
       "    </tr>\n",
       "    <tr>\n",
       "      <th>2</th>\n",
       "      <td>12.0</td>\n",
       "      <td>2</td>\n",
       "      <td>2</td>\n",
       "      <td>2</td>\n",
       "      <td>26</td>\n",
       "      <td>-1</td>\n",
       "      <td>2</td>\n",
       "      <td>0</td>\n",
       "      <td>0</td>\n",
       "      <td>0</td>\n",
       "      <td>...</td>\n",
       "      <td>3272</td>\n",
       "      <td>3455</td>\n",
       "      <td>3261</td>\n",
       "      <td>0</td>\n",
       "      <td>1000</td>\n",
       "      <td>1000</td>\n",
       "      <td>1000</td>\n",
       "      <td>0</td>\n",
       "      <td>2000</td>\n",
       "      <td>1</td>\n",
       "    </tr>\n",
       "    <tr>\n",
       "      <th>3</th>\n",
       "      <td>9.0</td>\n",
       "      <td>2</td>\n",
       "      <td>2</td>\n",
       "      <td>2</td>\n",
       "      <td>34</td>\n",
       "      <td>0</td>\n",
       "      <td>0</td>\n",
       "      <td>0</td>\n",
       "      <td>0</td>\n",
       "      <td>0</td>\n",
       "      <td>...</td>\n",
       "      <td>14331</td>\n",
       "      <td>14948</td>\n",
       "      <td>15549</td>\n",
       "      <td>1518</td>\n",
       "      <td>1500</td>\n",
       "      <td>1000</td>\n",
       "      <td>1000</td>\n",
       "      <td>1000</td>\n",
       "      <td>5000</td>\n",
       "      <td>0</td>\n",
       "    </tr>\n",
       "    <tr>\n",
       "      <th>4</th>\n",
       "      <td>5.0</td>\n",
       "      <td>2</td>\n",
       "      <td>2</td>\n",
       "      <td>1</td>\n",
       "      <td>37</td>\n",
       "      <td>0</td>\n",
       "      <td>0</td>\n",
       "      <td>0</td>\n",
       "      <td>0</td>\n",
       "      <td>0</td>\n",
       "      <td>...</td>\n",
       "      <td>28314</td>\n",
       "      <td>28959</td>\n",
       "      <td>29547</td>\n",
       "      <td>2000</td>\n",
       "      <td>2019</td>\n",
       "      <td>1200</td>\n",
       "      <td>1100</td>\n",
       "      <td>1069</td>\n",
       "      <td>1000</td>\n",
       "      <td>0</td>\n",
       "    </tr>\n",
       "    <tr>\n",
       "      <th>5</th>\n",
       "      <td>5.0</td>\n",
       "      <td>1</td>\n",
       "      <td>2</td>\n",
       "      <td>1</td>\n",
       "      <td>57</td>\n",
       "      <td>-1</td>\n",
       "      <td>0</td>\n",
       "      <td>-1</td>\n",
       "      <td>0</td>\n",
       "      <td>0</td>\n",
       "      <td>...</td>\n",
       "      <td>20940</td>\n",
       "      <td>19146</td>\n",
       "      <td>19131</td>\n",
       "      <td>2000</td>\n",
       "      <td>36681</td>\n",
       "      <td>10000</td>\n",
       "      <td>9000</td>\n",
       "      <td>689</td>\n",
       "      <td>679</td>\n",
       "      <td>0</td>\n",
       "    </tr>\n",
       "    <tr>\n",
       "      <th>...</th>\n",
       "      <td>...</td>\n",
       "      <td>...</td>\n",
       "      <td>...</td>\n",
       "      <td>...</td>\n",
       "      <td>...</td>\n",
       "      <td>...</td>\n",
       "      <td>...</td>\n",
       "      <td>...</td>\n",
       "      <td>...</td>\n",
       "      <td>...</td>\n",
       "      <td>...</td>\n",
       "      <td>...</td>\n",
       "      <td>...</td>\n",
       "      <td>...</td>\n",
       "      <td>...</td>\n",
       "      <td>...</td>\n",
       "      <td>...</td>\n",
       "      <td>...</td>\n",
       "      <td>...</td>\n",
       "      <td>...</td>\n",
       "      <td>...</td>\n",
       "    </tr>\n",
       "    <tr>\n",
       "      <th>29996</th>\n",
       "      <td>22.0</td>\n",
       "      <td>1</td>\n",
       "      <td>3</td>\n",
       "      <td>1</td>\n",
       "      <td>39</td>\n",
       "      <td>0</td>\n",
       "      <td>0</td>\n",
       "      <td>0</td>\n",
       "      <td>0</td>\n",
       "      <td>0</td>\n",
       "      <td>...</td>\n",
       "      <td>88004</td>\n",
       "      <td>31237</td>\n",
       "      <td>15980</td>\n",
       "      <td>8500</td>\n",
       "      <td>20000</td>\n",
       "      <td>5003</td>\n",
       "      <td>3047</td>\n",
       "      <td>5000</td>\n",
       "      <td>1000</td>\n",
       "      <td>0</td>\n",
       "    </tr>\n",
       "    <tr>\n",
       "      <th>29997</th>\n",
       "      <td>15.0</td>\n",
       "      <td>1</td>\n",
       "      <td>3</td>\n",
       "      <td>2</td>\n",
       "      <td>43</td>\n",
       "      <td>-1</td>\n",
       "      <td>-1</td>\n",
       "      <td>-1</td>\n",
       "      <td>-1</td>\n",
       "      <td>0</td>\n",
       "      <td>...</td>\n",
       "      <td>8979</td>\n",
       "      <td>5190</td>\n",
       "      <td>0</td>\n",
       "      <td>1837</td>\n",
       "      <td>3526</td>\n",
       "      <td>8998</td>\n",
       "      <td>129</td>\n",
       "      <td>0</td>\n",
       "      <td>0</td>\n",
       "      <td>0</td>\n",
       "    </tr>\n",
       "    <tr>\n",
       "      <th>29998</th>\n",
       "      <td>3.0</td>\n",
       "      <td>1</td>\n",
       "      <td>2</td>\n",
       "      <td>2</td>\n",
       "      <td>37</td>\n",
       "      <td>4</td>\n",
       "      <td>3</td>\n",
       "      <td>2</td>\n",
       "      <td>-1</td>\n",
       "      <td>0</td>\n",
       "      <td>...</td>\n",
       "      <td>20878</td>\n",
       "      <td>20582</td>\n",
       "      <td>19357</td>\n",
       "      <td>0</td>\n",
       "      <td>0</td>\n",
       "      <td>22000</td>\n",
       "      <td>4200</td>\n",
       "      <td>2000</td>\n",
       "      <td>3100</td>\n",
       "      <td>1</td>\n",
       "    </tr>\n",
       "    <tr>\n",
       "      <th>29999</th>\n",
       "      <td>8.0</td>\n",
       "      <td>1</td>\n",
       "      <td>3</td>\n",
       "      <td>1</td>\n",
       "      <td>41</td>\n",
       "      <td>1</td>\n",
       "      <td>-1</td>\n",
       "      <td>0</td>\n",
       "      <td>0</td>\n",
       "      <td>0</td>\n",
       "      <td>...</td>\n",
       "      <td>52774</td>\n",
       "      <td>11855</td>\n",
       "      <td>48944</td>\n",
       "      <td>85900</td>\n",
       "      <td>3409</td>\n",
       "      <td>1178</td>\n",
       "      <td>1926</td>\n",
       "      <td>52964</td>\n",
       "      <td>1804</td>\n",
       "      <td>1</td>\n",
       "    </tr>\n",
       "    <tr>\n",
       "      <th>30000</th>\n",
       "      <td>5.0</td>\n",
       "      <td>1</td>\n",
       "      <td>2</td>\n",
       "      <td>1</td>\n",
       "      <td>46</td>\n",
       "      <td>0</td>\n",
       "      <td>0</td>\n",
       "      <td>0</td>\n",
       "      <td>0</td>\n",
       "      <td>0</td>\n",
       "      <td>...</td>\n",
       "      <td>36535</td>\n",
       "      <td>32428</td>\n",
       "      <td>15313</td>\n",
       "      <td>2078</td>\n",
       "      <td>1800</td>\n",
       "      <td>1430</td>\n",
       "      <td>1000</td>\n",
       "      <td>1000</td>\n",
       "      <td>1000</td>\n",
       "      <td>1</td>\n",
       "    </tr>\n",
       "  </tbody>\n",
       "</table>\n",
       "<p>30000 rows × 24 columns</p>\n",
       "</div>"
      ],
      "text/plain": [
       "       credit_score  SEX  EDUCATION  MARRIAGE  AGE  PAY_0  PAY_2  PAY_3  \\\n",
       "ID                                                                        \n",
       "1               2.0    2          2         1   24      2      2     -1   \n",
       "2              12.0    2          2         2   26     -1      2      0   \n",
       "3               9.0    2          2         2   34      0      0      0   \n",
       "4               5.0    2          2         1   37      0      0      0   \n",
       "5               5.0    1          2         1   57     -1      0     -1   \n",
       "...             ...  ...        ...       ...  ...    ...    ...    ...   \n",
       "29996          22.0    1          3         1   39      0      0      0   \n",
       "29997          15.0    1          3         2   43     -1     -1     -1   \n",
       "29998           3.0    1          2         2   37      4      3      2   \n",
       "29999           8.0    1          3         1   41      1     -1      0   \n",
       "30000           5.0    1          2         1   46      0      0      0   \n",
       "\n",
       "       PAY_4  PAY_5  ...  BILL_AMT4  BILL_AMT5  BILL_AMT6  PAY_AMT1  PAY_AMT2  \\\n",
       "ID                   ...                                                        \n",
       "1         -1     -2  ...          0          0          0         0       689   \n",
       "2          0      0  ...       3272       3455       3261         0      1000   \n",
       "3          0      0  ...      14331      14948      15549      1518      1500   \n",
       "4          0      0  ...      28314      28959      29547      2000      2019   \n",
       "5          0      0  ...      20940      19146      19131      2000     36681   \n",
       "...      ...    ...  ...        ...        ...        ...       ...       ...   \n",
       "29996      0      0  ...      88004      31237      15980      8500     20000   \n",
       "29997     -1      0  ...       8979       5190          0      1837      3526   \n",
       "29998     -1      0  ...      20878      20582      19357         0         0   \n",
       "29999      0      0  ...      52774      11855      48944     85900      3409   \n",
       "30000      0      0  ...      36535      32428      15313      2078      1800   \n",
       "\n",
       "       PAY_AMT3  PAY_AMT4  PAY_AMT5  PAY_AMT6  default  \n",
       "ID                                                      \n",
       "1             0         0         0         0        1  \n",
       "2          1000      1000         0      2000        1  \n",
       "3          1000      1000      1000      5000        0  \n",
       "4          1200      1100      1069      1000        0  \n",
       "5         10000      9000       689       679        0  \n",
       "...         ...       ...       ...       ...      ...  \n",
       "29996      5003      3047      5000      1000        0  \n",
       "29997      8998       129         0         0        0  \n",
       "29998     22000      4200      2000      3100        1  \n",
       "29999      1178      1926     52964      1804        1  \n",
       "30000      1430      1000      1000      1000        1  \n",
       "\n",
       "[30000 rows x 24 columns]"
      ]
     },
     "execution_count": 3,
     "metadata": {},
     "output_type": "execute_result"
    }
   ],
   "source": [
    "df"
   ]
  },
  {
   "cell_type": "code",
   "execution_count": 4,
   "metadata": {},
   "outputs": [
    {
     "data": {
      "text/plain": [
       "count    30000.000000\n",
       "mean        16.748432\n",
       "std         12.974766\n",
       "min          1.000000\n",
       "25%          5.000000\n",
       "50%         14.000000\n",
       "75%         24.000000\n",
       "max        100.000000\n",
       "Name: credit_score, dtype: float64"
      ]
     },
     "execution_count": 4,
     "metadata": {},
     "output_type": "execute_result"
    }
   ],
   "source": [
    "df[\"credit_score\"].describe()"
   ]
  },
  {
   "cell_type": "code",
   "execution_count": 5,
   "metadata": {},
   "outputs": [
    {
     "name": "stdout",
     "output_type": "stream",
     "text": [
      "Index(['credit_score', 'SEX', 'EDUCATION', 'MARRIAGE', 'AGE', 'PAY_0', 'PAY_2',\n",
      "       'PAY_3', 'PAY_4', 'PAY_5', 'PAY_6', 'BILL_AMT1', 'BILL_AMT2',\n",
      "       'BILL_AMT3', 'BILL_AMT4', 'BILL_AMT5', 'BILL_AMT6', 'PAY_AMT1',\n",
      "       'PAY_AMT2', 'PAY_AMT3', 'PAY_AMT4', 'PAY_AMT5', 'PAY_AMT6', 'default'],\n",
      "      dtype='object')\n",
      "    credit_score  SEX  EDUCATION  MARRIAGE  AGE  PAY_0  PAY_2  PAY_3  PAY_4  \\\n",
      "ID                                                                            \n",
      "1            2.0    2          2         1   24      2      2     -1     -1   \n",
      "2           12.0    2          2         2   26     -1      2      0      0   \n",
      "\n",
      "    PAY_5  ...  BILL_AMT4  BILL_AMT5  BILL_AMT6  PAY_AMT1  PAY_AMT2  PAY_AMT3  \\\n",
      "ID         ...                                                                  \n",
      "1      -2  ...          0          0          0         0       689         0   \n",
      "2       0  ...       3272       3455       3261         0      1000      1000   \n",
      "\n",
      "    PAY_AMT4  PAY_AMT5  PAY_AMT6  default  \n",
      "ID                                         \n",
      "1          0         0         0        1  \n",
      "2       1000         0      2000        1  \n",
      "\n",
      "[2 rows x 24 columns]\n"
     ]
    },
    {
     "data": {
      "text/plain": [
       "(None, None)"
      ]
     },
     "execution_count": 5,
     "metadata": {},
     "output_type": "execute_result"
    }
   ],
   "source": [
    "print(df.columns), print(df.loc[:2])"
   ]
  },
  {
   "cell_type": "code",
   "execution_count": 6,
   "metadata": {},
   "outputs": [
    {
     "data": {
      "text/plain": [
       "ID\n",
       "1        1\n",
       "2        1\n",
       "3        0\n",
       "4        0\n",
       "5        0\n",
       "        ..\n",
       "29996    0\n",
       "29997    0\n",
       "29998    1\n",
       "29999    1\n",
       "30000    1\n",
       "Name: default, Length: 30000, dtype: int64"
      ]
     },
     "execution_count": 6,
     "metadata": {},
     "output_type": "execute_result"
    }
   ],
   "source": [
    "df[\"default\"]"
   ]
  },
  {
   "cell_type": "code",
   "execution_count": 7,
   "metadata": {},
   "outputs": [
    {
     "name": "stdout",
     "output_type": "stream",
     "text": [
      "<class 'pandas.core.frame.DataFrame'>\n",
      "Int64Index: 30000 entries, 1 to 30000\n",
      "Data columns (total 24 columns):\n",
      " #   Column        Non-Null Count  Dtype  \n",
      "---  ------        --------------  -----  \n",
      " 0   credit_score  30000 non-null  float64\n",
      " 1   SEX           30000 non-null  int64  \n",
      " 2   EDUCATION     30000 non-null  int64  \n",
      " 3   MARRIAGE      30000 non-null  int64  \n",
      " 4   AGE           30000 non-null  int64  \n",
      " 5   PAY_0         30000 non-null  int64  \n",
      " 6   PAY_2         30000 non-null  int64  \n",
      " 7   PAY_3         30000 non-null  int64  \n",
      " 8   PAY_4         30000 non-null  int64  \n",
      " 9   PAY_5         30000 non-null  int64  \n",
      " 10  PAY_6         30000 non-null  int64  \n",
      " 11  BILL_AMT1     30000 non-null  int64  \n",
      " 12  BILL_AMT2     30000 non-null  int64  \n",
      " 13  BILL_AMT3     30000 non-null  int64  \n",
      " 14  BILL_AMT4     30000 non-null  int64  \n",
      " 15  BILL_AMT5     30000 non-null  int64  \n",
      " 16  BILL_AMT6     30000 non-null  int64  \n",
      " 17  PAY_AMT1      30000 non-null  int64  \n",
      " 18  PAY_AMT2      30000 non-null  int64  \n",
      " 19  PAY_AMT3      30000 non-null  int64  \n",
      " 20  PAY_AMT4      30000 non-null  int64  \n",
      " 21  PAY_AMT5      30000 non-null  int64  \n",
      " 22  PAY_AMT6      30000 non-null  int64  \n",
      " 23  default       30000 non-null  int64  \n",
      "dtypes: float64(1), int64(23)\n",
      "memory usage: 6.7 MB\n"
     ]
    }
   ],
   "source": [
    "df.info()"
   ]
  },
  {
   "cell_type": "code",
   "execution_count": 8,
   "metadata": {},
   "outputs": [
    {
     "data": {
      "text/plain": [
       "credit_score    0\n",
       "SEX             0\n",
       "EDUCATION       0\n",
       "MARRIAGE        0\n",
       "AGE             0\n",
       "PAY_0           0\n",
       "PAY_2           0\n",
       "PAY_3           0\n",
       "PAY_4           0\n",
       "PAY_5           0\n",
       "PAY_6           0\n",
       "BILL_AMT1       0\n",
       "BILL_AMT2       0\n",
       "BILL_AMT3       0\n",
       "BILL_AMT4       0\n",
       "BILL_AMT5       0\n",
       "BILL_AMT6       0\n",
       "PAY_AMT1        0\n",
       "PAY_AMT2        0\n",
       "PAY_AMT3        0\n",
       "PAY_AMT4        0\n",
       "PAY_AMT5        0\n",
       "PAY_AMT6        0\n",
       "default         0\n",
       "dtype: int64"
      ]
     },
     "execution_count": 8,
     "metadata": {},
     "output_type": "execute_result"
    }
   ],
   "source": [
    "df.isna().sum()"
   ]
  },
  {
   "cell_type": "code",
   "execution_count": 9,
   "metadata": {},
   "outputs": [
    {
     "data": {
      "text/html": [
       "<div>\n",
       "<style scoped>\n",
       "    .dataframe tbody tr th:only-of-type {\n",
       "        vertical-align: middle;\n",
       "    }\n",
       "\n",
       "    .dataframe tbody tr th {\n",
       "        vertical-align: top;\n",
       "    }\n",
       "\n",
       "    .dataframe thead th {\n",
       "        text-align: right;\n",
       "    }\n",
       "</style>\n",
       "<table border=\"1\" class=\"dataframe\">\n",
       "  <thead>\n",
       "    <tr style=\"text-align: right;\">\n",
       "      <th></th>\n",
       "      <th>credit_score</th>\n",
       "      <th>SEX</th>\n",
       "      <th>EDUCATION</th>\n",
       "      <th>MARRIAGE</th>\n",
       "      <th>AGE</th>\n",
       "      <th>PAY_0</th>\n",
       "      <th>PAY_2</th>\n",
       "      <th>PAY_3</th>\n",
       "      <th>PAY_4</th>\n",
       "      <th>PAY_5</th>\n",
       "      <th>...</th>\n",
       "      <th>BILL_AMT4</th>\n",
       "      <th>BILL_AMT5</th>\n",
       "      <th>BILL_AMT6</th>\n",
       "      <th>PAY_AMT1</th>\n",
       "      <th>PAY_AMT2</th>\n",
       "      <th>PAY_AMT3</th>\n",
       "      <th>PAY_AMT4</th>\n",
       "      <th>PAY_AMT5</th>\n",
       "      <th>PAY_AMT6</th>\n",
       "      <th>default</th>\n",
       "    </tr>\n",
       "  </thead>\n",
       "  <tbody>\n",
       "    <tr>\n",
       "      <th>count</th>\n",
       "      <td>30000.000000</td>\n",
       "      <td>30000.000000</td>\n",
       "      <td>30000.000000</td>\n",
       "      <td>30000.000000</td>\n",
       "      <td>30000.000000</td>\n",
       "      <td>30000.000000</td>\n",
       "      <td>30000.000000</td>\n",
       "      <td>30000.000000</td>\n",
       "      <td>30000.000000</td>\n",
       "      <td>30000.000000</td>\n",
       "      <td>...</td>\n",
       "      <td>30000.000000</td>\n",
       "      <td>30000.000000</td>\n",
       "      <td>30000.000000</td>\n",
       "      <td>30000.000000</td>\n",
       "      <td>3.000000e+04</td>\n",
       "      <td>30000.00000</td>\n",
       "      <td>30000.000000</td>\n",
       "      <td>30000.000000</td>\n",
       "      <td>30000.000000</td>\n",
       "      <td>30000.000000</td>\n",
       "    </tr>\n",
       "    <tr>\n",
       "      <th>mean</th>\n",
       "      <td>16.748432</td>\n",
       "      <td>1.603733</td>\n",
       "      <td>1.853133</td>\n",
       "      <td>1.551867</td>\n",
       "      <td>35.485500</td>\n",
       "      <td>-0.016700</td>\n",
       "      <td>-0.133767</td>\n",
       "      <td>-0.166200</td>\n",
       "      <td>-0.220667</td>\n",
       "      <td>-0.266200</td>\n",
       "      <td>...</td>\n",
       "      <td>43262.948967</td>\n",
       "      <td>40311.400967</td>\n",
       "      <td>38871.760400</td>\n",
       "      <td>5663.580500</td>\n",
       "      <td>5.921163e+03</td>\n",
       "      <td>5225.68150</td>\n",
       "      <td>4826.076867</td>\n",
       "      <td>4799.387633</td>\n",
       "      <td>5215.502567</td>\n",
       "      <td>0.221200</td>\n",
       "    </tr>\n",
       "    <tr>\n",
       "      <th>std</th>\n",
       "      <td>12.974766</td>\n",
       "      <td>0.489129</td>\n",
       "      <td>0.790349</td>\n",
       "      <td>0.521970</td>\n",
       "      <td>9.217904</td>\n",
       "      <td>1.123802</td>\n",
       "      <td>1.197186</td>\n",
       "      <td>1.196868</td>\n",
       "      <td>1.169139</td>\n",
       "      <td>1.133187</td>\n",
       "      <td>...</td>\n",
       "      <td>64332.856134</td>\n",
       "      <td>60797.155770</td>\n",
       "      <td>59554.107537</td>\n",
       "      <td>16563.280354</td>\n",
       "      <td>2.304087e+04</td>\n",
       "      <td>17606.96147</td>\n",
       "      <td>15666.159744</td>\n",
       "      <td>15278.305679</td>\n",
       "      <td>17777.465775</td>\n",
       "      <td>0.415062</td>\n",
       "    </tr>\n",
       "    <tr>\n",
       "      <th>min</th>\n",
       "      <td>1.000000</td>\n",
       "      <td>1.000000</td>\n",
       "      <td>0.000000</td>\n",
       "      <td>0.000000</td>\n",
       "      <td>21.000000</td>\n",
       "      <td>-2.000000</td>\n",
       "      <td>-2.000000</td>\n",
       "      <td>-2.000000</td>\n",
       "      <td>-2.000000</td>\n",
       "      <td>-2.000000</td>\n",
       "      <td>...</td>\n",
       "      <td>-170000.000000</td>\n",
       "      <td>-81334.000000</td>\n",
       "      <td>-339603.000000</td>\n",
       "      <td>0.000000</td>\n",
       "      <td>0.000000e+00</td>\n",
       "      <td>0.00000</td>\n",
       "      <td>0.000000</td>\n",
       "      <td>0.000000</td>\n",
       "      <td>0.000000</td>\n",
       "      <td>0.000000</td>\n",
       "    </tr>\n",
       "    <tr>\n",
       "      <th>25%</th>\n",
       "      <td>5.000000</td>\n",
       "      <td>1.000000</td>\n",
       "      <td>1.000000</td>\n",
       "      <td>1.000000</td>\n",
       "      <td>28.000000</td>\n",
       "      <td>-1.000000</td>\n",
       "      <td>-1.000000</td>\n",
       "      <td>-1.000000</td>\n",
       "      <td>-1.000000</td>\n",
       "      <td>-1.000000</td>\n",
       "      <td>...</td>\n",
       "      <td>2326.750000</td>\n",
       "      <td>1763.000000</td>\n",
       "      <td>1256.000000</td>\n",
       "      <td>1000.000000</td>\n",
       "      <td>8.330000e+02</td>\n",
       "      <td>390.00000</td>\n",
       "      <td>296.000000</td>\n",
       "      <td>252.500000</td>\n",
       "      <td>117.750000</td>\n",
       "      <td>0.000000</td>\n",
       "    </tr>\n",
       "    <tr>\n",
       "      <th>50%</th>\n",
       "      <td>14.000000</td>\n",
       "      <td>2.000000</td>\n",
       "      <td>2.000000</td>\n",
       "      <td>2.000000</td>\n",
       "      <td>34.000000</td>\n",
       "      <td>0.000000</td>\n",
       "      <td>0.000000</td>\n",
       "      <td>0.000000</td>\n",
       "      <td>0.000000</td>\n",
       "      <td>0.000000</td>\n",
       "      <td>...</td>\n",
       "      <td>19052.000000</td>\n",
       "      <td>18104.500000</td>\n",
       "      <td>17071.000000</td>\n",
       "      <td>2100.000000</td>\n",
       "      <td>2.009000e+03</td>\n",
       "      <td>1800.00000</td>\n",
       "      <td>1500.000000</td>\n",
       "      <td>1500.000000</td>\n",
       "      <td>1500.000000</td>\n",
       "      <td>0.000000</td>\n",
       "    </tr>\n",
       "    <tr>\n",
       "      <th>75%</th>\n",
       "      <td>24.000000</td>\n",
       "      <td>2.000000</td>\n",
       "      <td>2.000000</td>\n",
       "      <td>2.000000</td>\n",
       "      <td>41.000000</td>\n",
       "      <td>0.000000</td>\n",
       "      <td>0.000000</td>\n",
       "      <td>0.000000</td>\n",
       "      <td>0.000000</td>\n",
       "      <td>0.000000</td>\n",
       "      <td>...</td>\n",
       "      <td>54506.000000</td>\n",
       "      <td>50190.500000</td>\n",
       "      <td>49198.250000</td>\n",
       "      <td>5006.000000</td>\n",
       "      <td>5.000000e+03</td>\n",
       "      <td>4505.00000</td>\n",
       "      <td>4013.250000</td>\n",
       "      <td>4031.500000</td>\n",
       "      <td>4000.000000</td>\n",
       "      <td>0.000000</td>\n",
       "    </tr>\n",
       "    <tr>\n",
       "      <th>max</th>\n",
       "      <td>100.000000</td>\n",
       "      <td>2.000000</td>\n",
       "      <td>6.000000</td>\n",
       "      <td>3.000000</td>\n",
       "      <td>79.000000</td>\n",
       "      <td>8.000000</td>\n",
       "      <td>8.000000</td>\n",
       "      <td>8.000000</td>\n",
       "      <td>8.000000</td>\n",
       "      <td>8.000000</td>\n",
       "      <td>...</td>\n",
       "      <td>891586.000000</td>\n",
       "      <td>927171.000000</td>\n",
       "      <td>961664.000000</td>\n",
       "      <td>873552.000000</td>\n",
       "      <td>1.684259e+06</td>\n",
       "      <td>896040.00000</td>\n",
       "      <td>621000.000000</td>\n",
       "      <td>426529.000000</td>\n",
       "      <td>528666.000000</td>\n",
       "      <td>1.000000</td>\n",
       "    </tr>\n",
       "  </tbody>\n",
       "</table>\n",
       "<p>8 rows × 24 columns</p>\n",
       "</div>"
      ],
      "text/plain": [
       "       credit_score           SEX     EDUCATION      MARRIAGE           AGE  \\\n",
       "count  30000.000000  30000.000000  30000.000000  30000.000000  30000.000000   \n",
       "mean      16.748432      1.603733      1.853133      1.551867     35.485500   \n",
       "std       12.974766      0.489129      0.790349      0.521970      9.217904   \n",
       "min        1.000000      1.000000      0.000000      0.000000     21.000000   \n",
       "25%        5.000000      1.000000      1.000000      1.000000     28.000000   \n",
       "50%       14.000000      2.000000      2.000000      2.000000     34.000000   \n",
       "75%       24.000000      2.000000      2.000000      2.000000     41.000000   \n",
       "max      100.000000      2.000000      6.000000      3.000000     79.000000   \n",
       "\n",
       "              PAY_0         PAY_2         PAY_3         PAY_4         PAY_5  \\\n",
       "count  30000.000000  30000.000000  30000.000000  30000.000000  30000.000000   \n",
       "mean      -0.016700     -0.133767     -0.166200     -0.220667     -0.266200   \n",
       "std        1.123802      1.197186      1.196868      1.169139      1.133187   \n",
       "min       -2.000000     -2.000000     -2.000000     -2.000000     -2.000000   \n",
       "25%       -1.000000     -1.000000     -1.000000     -1.000000     -1.000000   \n",
       "50%        0.000000      0.000000      0.000000      0.000000      0.000000   \n",
       "75%        0.000000      0.000000      0.000000      0.000000      0.000000   \n",
       "max        8.000000      8.000000      8.000000      8.000000      8.000000   \n",
       "\n",
       "       ...      BILL_AMT4      BILL_AMT5      BILL_AMT6       PAY_AMT1  \\\n",
       "count  ...   30000.000000   30000.000000   30000.000000   30000.000000   \n",
       "mean   ...   43262.948967   40311.400967   38871.760400    5663.580500   \n",
       "std    ...   64332.856134   60797.155770   59554.107537   16563.280354   \n",
       "min    ... -170000.000000  -81334.000000 -339603.000000       0.000000   \n",
       "25%    ...    2326.750000    1763.000000    1256.000000    1000.000000   \n",
       "50%    ...   19052.000000   18104.500000   17071.000000    2100.000000   \n",
       "75%    ...   54506.000000   50190.500000   49198.250000    5006.000000   \n",
       "max    ...  891586.000000  927171.000000  961664.000000  873552.000000   \n",
       "\n",
       "           PAY_AMT2      PAY_AMT3       PAY_AMT4       PAY_AMT5  \\\n",
       "count  3.000000e+04   30000.00000   30000.000000   30000.000000   \n",
       "mean   5.921163e+03    5225.68150    4826.076867    4799.387633   \n",
       "std    2.304087e+04   17606.96147   15666.159744   15278.305679   \n",
       "min    0.000000e+00       0.00000       0.000000       0.000000   \n",
       "25%    8.330000e+02     390.00000     296.000000     252.500000   \n",
       "50%    2.009000e+03    1800.00000    1500.000000    1500.000000   \n",
       "75%    5.000000e+03    4505.00000    4013.250000    4031.500000   \n",
       "max    1.684259e+06  896040.00000  621000.000000  426529.000000   \n",
       "\n",
       "            PAY_AMT6       default  \n",
       "count   30000.000000  30000.000000  \n",
       "mean     5215.502567      0.221200  \n",
       "std     17777.465775      0.415062  \n",
       "min         0.000000      0.000000  \n",
       "25%       117.750000      0.000000  \n",
       "50%      1500.000000      0.000000  \n",
       "75%      4000.000000      0.000000  \n",
       "max    528666.000000      1.000000  \n",
       "\n",
       "[8 rows x 24 columns]"
      ]
     },
     "execution_count": 9,
     "metadata": {},
     "output_type": "execute_result"
    }
   ],
   "source": [
    "df.describe()"
   ]
  },
  {
   "cell_type": "code",
   "execution_count": 10,
   "metadata": {},
   "outputs": [
    {
     "data": {
      "text/plain": [
       "'\\nThis research employed a binary variable, default payment (Yes = 1, No = 0), as the response variable. This study reviewed the literature and used the following 23 variables as explanatory variables:\\nX1: Amount of the given credit (NT dollar): it includes both the individual consumer credit and his/her family (supplementary) credit.\\nX2: Gender (1 = male; 2 = female).\\nX3: Education (1 = graduate school; 2 = university; 3 = high school; 4 = others).\\nX4: Marital status (1 = married; 2 = single; 3 = others).\\nX5: Age (year).\\nX6 - X11: History of past payment. We tracked the past monthly payment records (from April to September, 2005) as follows: X6 = the repayment status in September, 2005; X7 = the repayment status in August, 2005; . . .;X11 = the repayment status in April, 2005. The measurement scale for the repayment status is: -1 = pay duly; 1 = payment delay for one month; 2 = payment delay for two months; . . .; 8 = payment delay for eight months; 9 = payment delay for nine months and above.\\nX12-X17: Amount of bill statement (NT dollar). X12 = amount of bill statement in September, 2005; X13 = amount of bill statement in August, 2005; . . .; X17 = amount of bill statement in April, 2005.\\nX18-X23: Amount of previous payment (NT dollar). X18 = amount paid in September, 2005; X19 = amount paid in August, 2005; . . .;X23 = amount paid in April, 2005.\\n\\n'"
      ]
     },
     "execution_count": 10,
     "metadata": {},
     "output_type": "execute_result"
    }
   ],
   "source": [
    "\"\"\"\n",
    "This research employed a binary variable, default payment (Yes = 1, No = 0), as the response variable. This study reviewed the literature and used the following 23 variables as explanatory variables:\n",
    "X1: Amount of the given credit (NT dollar): it includes both the individual consumer credit and his/her family (supplementary) credit.\n",
    "X2: Gender (1 = male; 2 = female).\n",
    "X3: Education (1 = graduate school; 2 = university; 3 = high school; 4 = others).\n",
    "X4: Marital status (1 = married; 2 = single; 3 = others).\n",
    "X5: Age (year).\n",
    "X6 - X11: History of past payment. We tracked the past monthly payment records (from April to September, 2005) as follows: X6 = the repayment status in September, 2005; X7 = the repayment status in August, 2005; . . .;X11 = the repayment status in April, 2005. The measurement scale for the repayment status is: -1 = pay duly; 1 = payment delay for one month; 2 = payment delay for two months; . . .; 8 = payment delay for eight months; 9 = payment delay for nine months and above.\n",
    "X12-X17: Amount of bill statement (NT dollar). X12 = amount of bill statement in September, 2005; X13 = amount of bill statement in August, 2005; . . .; X17 = amount of bill statement in April, 2005.\n",
    "X18-X23: Amount of previous payment (NT dollar). X18 = amount paid in September, 2005; X19 = amount paid in August, 2005; . . .;X23 = amount paid in April, 2005.\n",
    "\n",
    "\"\"\""
   ]
  },
  {
   "cell_type": "code",
   "execution_count": 11,
   "metadata": {},
   "outputs": [
    {
     "data": {
      "text/plain": [
       "ID\n",
       "1        1\n",
       "2        1\n",
       "3        0\n",
       "4        0\n",
       "5        0\n",
       "        ..\n",
       "29996    0\n",
       "29997    0\n",
       "29998    1\n",
       "29999    1\n",
       "30000    1\n",
       "Name: default, Length: 30000, dtype: int64"
      ]
     },
     "execution_count": 11,
     "metadata": {},
     "output_type": "execute_result"
    }
   ],
   "source": [
    "df[\"default\"]"
   ]
  },
  {
   "cell_type": "code",
   "execution_count": 13,
   "metadata": {},
   "outputs": [
    {
     "name": "stderr",
     "output_type": "stream",
     "text": [
      "C:\\Users\\surajp\\miniconda3\\envs\\realad\\lib\\site-packages\\seaborn\\distributions.py:2619: FutureWarning: `distplot` is a deprecated function and will be removed in a future version. Please adapt your code to use either `displot` (a figure-level function with similar flexibility) or `histplot` (an axes-level function for histograms).\n",
      "  warnings.warn(msg, FutureWarning)\n"
     ]
    },
    {
     "data": {
      "image/png": "[encoded data removed]",
      "text/plain": [
       "<Figure size 1080x576 with 1 Axes>"
      ]
     },
     "metadata": {
      "needs_background": "light"
     },
     "output_type": "display_data"
    }
   ],
   "source": [
    "plt.figure(figsize=(15,8))\n",
    "sns.distplot(df[\"credit_score\"])\n",
    "plt.savefig('income.png', facecolor='w', bbox_inches='tight')\n",
    "plt.show()"
   ]
  },
  {
   "cell_type": "code",
   "execution_count": 14,
   "metadata": {},
   "outputs": [
    {
     "name": "stderr",
     "output_type": "stream",
     "text": [
      "C:\\Users\\surajp\\miniconda3\\envs\\realad\\lib\\site-packages\\seaborn\\distributions.py:2619: FutureWarning: `distplot` is a deprecated function and will be removed in a future version. Please adapt your code to use either `displot` (a figure-level function with similar flexibility) or `histplot` (an axes-level function for histograms).\n",
      "  warnings.warn(msg, FutureWarning)\n"
     ]
    },
    {
     "data": {
      "image/png": "[encoded data removed]",
      "text/plain": [
       "<Figure size 1080x576 with 1 Axes>"
      ]
     },
     "metadata": {
      "needs_background": "light"
     },
     "output_type": "display_data"
    }
   ],
   "source": [
    "plt.figure(figsize=(15,8))\n",
    "sns.distplot(df[\"SEX\"])\n",
    "plt.show()"
   ]
  },
  {
   "cell_type": "code",
   "execution_count": 17,
   "metadata": {},
   "outputs": [
    {
     "name": "stderr",
     "output_type": "stream",
     "text": [
      "C:\\Users\\surajp\\miniconda3\\envs\\realad\\lib\\site-packages\\seaborn\\distributions.py:2619: FutureWarning: `distplot` is a deprecated function and will be removed in a future version. Please adapt your code to use either `displot` (a figure-level function with similar flexibility) or `histplot` (an axes-level function for histograms).\n",
      "  warnings.warn(msg, FutureWarning)\n",
      "C:\\Users\\surajp\\miniconda3\\envs\\realad\\lib\\site-packages\\seaborn\\distributions.py:2619: FutureWarning: `distplot` is a deprecated function and will be removed in a future version. Please adapt your code to use either `displot` (a figure-level function with similar flexibility) or `histplot` (an axes-level function for histograms).\n",
      "  warnings.warn(msg, FutureWarning)\n"
     ]
    },
    {
     "data": {
      "image/png": "[encoded data removed]",
      "text/plain": [
       "<Figure size 1080x576 with 1 Axes>"
      ]
     },
     "metadata": {
      "needs_background": "light"
     },
     "output_type": "display_data"
    }
   ],
   "source": [
    "plt.figure(figsize=(15,8))\n",
    "sns.distplot(df[df[\"default\"]==1][\"credit_score\"], label='default')\n",
    "sns.distplot(df[df[\"default\"]==0][\"credit_score\"], label='no default')\n",
    "plt.legend()\n",
    "plt.show()"
   ]
  },
  {
   "cell_type": "code",
   "execution_count": 18,
   "metadata": {},
   "outputs": [
    {
     "data": {
      "text/plain": [
       "array([2, 1], dtype=int64)"
      ]
     },
     "execution_count": 18,
     "metadata": {},
     "output_type": "execute_result"
    }
   ],
   "source": [
    "df[\"SEX\"].unique()"
   ]
  },
  {
   "cell_type": "code",
   "execution_count": 19,
   "metadata": {},
   "outputs": [],
   "source": [
    "# Education has only 4 categorical levels, removing columns with higher values\n",
    "df = df[df[\"EDUCATION\"]<=4]"
   ]
  },
  {
   "cell_type": "code",
   "execution_count": 312,
   "metadata": {},
   "outputs": [],
   "source": [
    "pay_cols = [\"PAY_0\", \"PAY_2\", \"PAY_3\", \"PAY_4\", \"PAY_5\", \"PAY_6\"]\n",
    "\n",
    "categorical_columns = [\"SEX\", \"EDUCATION\", \"MARRIAGE\"] + pay_cols\n",
    "continuous_columns = [c for c in df.columns if c not in categorical_columns + [\"default\"]]\n",
    "target_col = \"default\""
   ]
  },
  {
   "cell_type": "code",
   "execution_count": 315,
   "metadata": {},
   "outputs": [],
   "source": [
    "# male=1, female=2 => male=1, female=0\n",
    "df[\"feature_SEX\"] = (df[\"SEX\"] == 1)\n",
    "df[\"feature_MARRIAGE\"] = (df[\"MARRIAGE\"] == 1)\n",
    "\n",
    "# Education encoding\n",
    "edu_encoder = OneHotEncoder()\n",
    "df[[\"edu_0\", \"edu_1\", \"edu_2\", \"edu_3\", \"edu_4\"]] = edu_encoder.fit_transform(df[\"EDUCATION\"].values.reshape(-1, 1)).toarray()\n",
    "\n",
    "# encoding the columns having categorical values for pyment due\n",
    "enc = OneHotEncoder()\n",
    "enc.fit(df[pay_cols[0]].values.reshape(-1, 1))\n",
    "\n",
    "for col in pay_cols:\n",
    "    df[[f\"PAY_{col[-1]}_{ix}\" for ix in range(-2, 9)]] = enc.transform(df[col].values.reshape(-1, 1)).toarray()\n",
    "\n",
    "# Encoding marrige column\n",
    "\n",
    "#marrige_encoder = OneHotEncoder()\n",
    "#df[[\"marriage_0\", \"marriage_1\", \"marriage_2\", \"marriage_3\"]] = marrige_encoder.fit_transform(df[\"MARRIAGE\"].values.reshape(-1, 1)).toarray()"
   ]
  },
  {
   "cell_type": "code",
   "execution_count": 216,
   "metadata": {},
   "outputs": [],
   "source": [
    "bill_cols = [c for c in df.columns if \"BILL_AMT\" in c][:-1]\n",
    "pay_amt_cols = [c for c in df.columns if \"PAY_AMT\" in c][1:]\n",
    "\n",
    "zero_payments = df[df[bill_cols].sum(1)==0]\n",
    "df = df.drop(zero_payments.index, axis=0)\n",
    "\n",
    "neg_bill = df[df[bill_cols].sum(1)<0]\n",
    "df = df.drop(neg_bill.index, axis=0)\n",
    "\n",
    "pay2bill = ((df[pay_amt_cols].sum(1).values)/(df[bill_cols].sum(1)))\n",
    "df[\"pay_bill_rat\"] = pay2bill\n",
    "\n",
    "df = df[df[\"pay_bill_rat\"]<=2]"
   ]
  },
  {
   "cell_type": "code",
   "execution_count": 382,
   "metadata": {},
   "outputs": [],
   "source": [
    "feature_names = [f for f in df.columns if f not in categorical_columns+[\"default\"]]"
   ]
  },
  {
   "cell_type": "code",
   "execution_count": 383,
   "metadata": {},
   "outputs": [
    {
     "data": {
      "text/plain": [
       "['credit_score',\n",
       " 'AGE',\n",
       " 'BILL_AMT1',\n",
       " 'BILL_AMT2',\n",
       " 'BILL_AMT3',\n",
       " 'BILL_AMT4',\n",
       " 'BILL_AMT5',\n",
       " 'BILL_AMT6',\n",
       " 'PAY_AMT1',\n",
       " 'PAY_AMT2',\n",
       " 'PAY_AMT3',\n",
       " 'PAY_AMT4',\n",
       " 'PAY_AMT5',\n",
       " 'PAY_AMT6',\n",
       " 'feature_SEX',\n",
       " 'feature_MARRIAGE',\n",
       " 'pay_bill_rat',\n",
       " 'edu_0',\n",
       " 'edu_1',\n",
       " 'edu_2',\n",
       " 'edu_3',\n",
       " 'edu_4',\n",
       " 'PAY_0_-2',\n",
       " 'PAY_0_-1',\n",
       " 'PAY_0_0',\n",
       " 'PAY_0_1',\n",
       " 'PAY_0_2',\n",
       " 'PAY_0_3',\n",
       " 'PAY_0_4',\n",
       " 'PAY_0_5',\n",
       " 'PAY_0_6',\n",
       " 'PAY_0_7',\n",
       " 'PAY_0_8',\n",
       " 'PAY_2_-2',\n",
       " 'PAY_2_-1',\n",
       " 'PAY_2_0',\n",
       " 'PAY_2_1',\n",
       " 'PAY_2_2',\n",
       " 'PAY_2_3',\n",
       " 'PAY_2_4',\n",
       " 'PAY_2_5',\n",
       " 'PAY_2_6',\n",
       " 'PAY_2_7',\n",
       " 'PAY_2_8',\n",
       " 'PAY_3_-2',\n",
       " 'PAY_3_-1',\n",
       " 'PAY_3_0',\n",
       " 'PAY_3_1',\n",
       " 'PAY_3_2',\n",
       " 'PAY_3_3',\n",
       " 'PAY_3_4',\n",
       " 'PAY_3_5',\n",
       " 'PAY_3_6',\n",
       " 'PAY_3_7',\n",
       " 'PAY_3_8',\n",
       " 'PAY_4_-2',\n",
       " 'PAY_4_-1',\n",
       " 'PAY_4_0',\n",
       " 'PAY_4_1',\n",
       " 'PAY_4_2',\n",
       " 'PAY_4_3',\n",
       " 'PAY_4_4',\n",
       " 'PAY_4_5',\n",
       " 'PAY_4_6',\n",
       " 'PAY_4_7',\n",
       " 'PAY_4_8',\n",
       " 'PAY_5_-2',\n",
       " 'PAY_5_-1',\n",
       " 'PAY_5_0',\n",
       " 'PAY_5_1',\n",
       " 'PAY_5_2',\n",
       " 'PAY_5_3',\n",
       " 'PAY_5_4',\n",
       " 'PAY_5_5',\n",
       " 'PAY_5_6',\n",
       " 'PAY_5_7',\n",
       " 'PAY_5_8',\n",
       " 'PAY_6_-2',\n",
       " 'PAY_6_-1',\n",
       " 'PAY_6_0',\n",
       " 'PAY_6_1',\n",
       " 'PAY_6_2',\n",
       " 'PAY_6_3',\n",
       " 'PAY_6_4',\n",
       " 'PAY_6_5',\n",
       " 'PAY_6_6',\n",
       " 'PAY_6_7',\n",
       " 'PAY_6_8']"
      ]
     },
     "execution_count": 383,
     "metadata": {},
     "output_type": "execute_result"
    }
   ],
   "source": [
    "feature_names"
   ]
  },
  {
   "cell_type": "code",
   "execution_count": 385,
   "metadata": {},
   "outputs": [],
   "source": [
    "X = df.drop([\"default\"], axis=1).astype(float)\n",
    "y = df[\"default\"].astype(float)"
   ]
  },
  {
   "cell_type": "code",
   "execution_count": 386,
   "metadata": {},
   "outputs": [
    {
     "data": {
      "text/plain": [
       "0.21962972356074056"
      ]
     },
     "execution_count": 386,
     "metadata": {},
     "output_type": "execute_result"
    }
   ],
   "source": [
    "(df[\"default\"]==1).mean()"
   ]
  },
  {
   "cell_type": "code",
   "execution_count": 387,
   "metadata": {},
   "outputs": [],
   "source": [
    "continuous_cols = ['credit_score', 'AGE', 'pay_bill_rat']\n",
    "descret_cols = [\"EDUCATION\", \"feature_MARRIAGE\"]\n",
    "\n",
    "to_normalize = continuous_cols + descret_cols"
   ]
  },
  {
   "cell_type": "markdown",
   "metadata": {},
   "source": [
    "## Experiment with Cross Validation"
   ]
  },
  {
   "cell_type": "code",
   "execution_count": 234,
   "metadata": {},
   "outputs": [],
   "source": [
    "feature_names = ['credit_score', 'AGE', 'feature_SEX', 'EDUCATION', 'feature_MARRIAGE', 'pay_bill_rat']\n",
    "feature_names = ['pay_bill_rat']"
   ]
  },
  {
   "cell_type": "code",
   "execution_count": 457,
   "metadata": {},
   "outputs": [
    {
     "name": "stdout",
     "output_type": "stream",
     "text": [
      "(22080, 88) (5521, 88) (22080,) (5521,)\n",
      "0.220018115942029\n"
     ]
    }
   ],
   "source": [
    "X_train, X_test, y_train, y_test = train_test_split(X, y, test_size=0.2, shuffle=True)\n",
    "\n",
    "\n",
    "sc = MinMaxScaler()\n",
    "X_train = sc.fit_transform(X_train[feature_names])\n",
    "X_test = sc.transform(X_test[feature_names])\n",
    "\n",
    "#X_train[to_normalize] = sc.fit_transform(X_train[to_normalize])\n",
    "#X_test[to_normalize] = sc.transform(X_test[to_normalize])\n",
    "\n",
    "print(X_train.shape, X_test.shape, y_train.shape, y_test.shape)\n",
    "print(y_train.mean())"
   ]
  },
  {
   "cell_type": "code",
   "execution_count": 458,
   "metadata": {},
   "outputs": [],
   "source": [
    "def get_model(hidden_size=16):\n",
    "    model = models.Sequential()\n",
    "    model.add(L.Dense(hidden_size, input_dim = (len(feature_names)), activation=\"relu\"))\n",
    "    model.add(L.Dense(1, activation=\"sigmoid\"))\n",
    "\n",
    "    opt = tf.keras.optimizers.Adam(learning_rate=0.003)\n",
    "    model.compile(optimizer=opt, loss=\"binary_crossentropy\", metrics=[\"accuracy\", \"AUC\"])\n",
    "\n",
    "    return model"
   ]
  },
  {
   "cell_type": "code",
   "execution_count": 459,
   "metadata": {},
   "outputs": [
    {
     "name": "stdout",
     "output_type": "stream",
     "text": [
      "Model: \"sequential_99\"\n",
      "_________________________________________________________________\n",
      "Layer (type)                 Output Shape              Param #   \n",
      "=================================================================\n",
      "dense_220 (Dense)            (None, 16)                1424      \n",
      "_________________________________________________________________\n",
      "dense_221 (Dense)            (None, 1)                 17        \n",
      "=================================================================\n",
      "Total params: 1,441\n",
      "Trainable params: 1,441\n",
      "Non-trainable params: 0\n",
      "_________________________________________________________________\n"
     ]
    }
   ],
   "source": [
    "model = get_model()\n",
    "model.summary()"
   ]
  },
  {
   "cell_type": "code",
   "execution_count": 460,
   "metadata": {},
   "outputs": [
    {
     "name": "stdout",
     "output_type": "stream",
     "text": [
      "[ 4416  4417  4418 ... 22077 22078 22079] [   0    1    2 ... 4413 4414 4415]\n",
      "17664 4416\n",
      "(17664, 88)\n",
      "138/138 [==============================] - 0s 1ms/step - loss: 0.4214 - accuracy: 0.8284 - auc: 0.7807\n",
      "[0.4213829040527344, 0.8283514380455017, 0.780663251876831]\n",
      "[    0     1     2 ... 22077 22078 22079] [4416 4417 4418 ... 8829 8830 8831]\n",
      "17664 4416\n",
      "(17664, 88)\n",
      "138/138 [==============================] - 0s 1ms/step - loss: 0.4251 - accuracy: 0.8245 - auc: 0.7680\n",
      "[0.4251214265823364, 0.8245018124580383, 0.7680331468582153]\n",
      "[    0     1     2 ... 22077 22078 22079] [ 8832  8833  8834 ... 13245 13246 13247]\n",
      "17664 4416\n",
      "(17664, 88)\n",
      "138/138 [==============================] - 0s 1ms/step - loss: 0.4429 - accuracy: 0.8211 - auc: 0.7713\n",
      "[0.44287165999412537, 0.8211050629615784, 0.7713375091552734]\n",
      "[    0     1     2 ... 22077 22078 22079] [13248 13249 13250 ... 17661 17662 17663]\n",
      "17664 4416\n",
      "(17664, 88)\n",
      "138/138 [==============================] - 0s 1ms/step - loss: 0.4407 - accuracy: 0.8200 - auc: 0.7749\n",
      "[0.44072583317756653, 0.819972813129425, 0.7749413251876831]\n",
      "[    0     1     2 ... 17661 17662 17663] [17664 17665 17666 ... 22077 22078 22079]\n",
      "17664 4416\n",
      "(17664, 88)\n",
      "138/138 [==============================] - 0s 1ms/step - loss: 0.4265 - accuracy: 0.8270 - auc: 0.7833\n",
      "[0.4264625906944275, 0.8269927501678467, 0.7833040356636047]\n",
      "[ 4416  4417  4418 ... 22077 22078 22079] [   0    1    2 ... 4413 4414 4415]\n",
      "17664 4416\n",
      "(17664, 88)\n",
      "138/138 [==============================] - 0s 1ms/step - loss: 0.4236 - accuracy: 0.8284 - auc: 0.7779\n",
      "[0.42359286546707153, 0.8283514380455017, 0.7779416441917419]\n",
      "[    0     1     2 ... 22077 22078 22079] [4416 4417 4418 ... 8829 8830 8831]\n",
      "17664 4416\n",
      "(17664, 88)\n",
      "138/138 [==============================] - 0s 1ms/step - loss: 0.4338 - accuracy: 0.8216 - auc: 0.7605\n",
      "[0.43380478024482727, 0.8215579986572266, 0.7605007290840149]\n",
      "[    0     1     2 ... 22077 22078 22079] [ 8832  8833  8834 ... 13245 13246 13247]\n",
      "17664 4416\n",
      "(17664, 88)\n",
      "138/138 [==============================] - 0s 1ms/step - loss: 0.4463 - accuracy: 0.8186 - auc: 0.7645\n",
      "[0.4462514817714691, 0.81861412525177, 0.7644513845443726]\n",
      "[    0     1     2 ... 22077 22078 22079] [13248 13249 13250 ... 17661 17662 17663]\n",
      "17664 4416\n",
      "(17664, 88)\n",
      "138/138 [==============================] - 0s 1ms/step - loss: 0.4415 - accuracy: 0.8207 - auc: 0.7715\n",
      "[0.44145655632019043, 0.820652186870575, 0.7714859247207642]\n",
      "[    0     1     2 ... 17661 17662 17663] [17664 17665 17666 ... 22077 22078 22079]\n",
      "17664 4416\n",
      "(17664, 88)\n",
      "138/138 [==============================] - 0s 1ms/step - loss: 0.4332 - accuracy: 0.8247 - auc: 0.7745\n",
      "[0.4331737458705902, 0.82472825050354, 0.7745182514190674]\n",
      "[ 4416  4417  4418 ... 22077 22078 22079] [   0    1    2 ... 4413 4414 4415]\n",
      "17664 4416\n",
      "(17664, 88)\n",
      "138/138 [==============================] - 0s 1ms/step - loss: 0.4307 - accuracy: 0.8274 - auc: 0.7747\n",
      "[0.43068942427635193, 0.8274456262588501, 0.7746727466583252]\n",
      "[    0     1     2 ... 22077 22078 22079] [4416 4417 4418 ... 8829 8830 8831]\n",
      "17664 4416\n",
      "(17664, 88)\n",
      "138/138 [==============================] - 0s 1ms/step - loss: 0.4408 - accuracy: 0.8236 - auc: 0.7574\n",
      "[0.440787136554718, 0.8235960006713867, 0.7574447989463806]\n",
      "[    0     1     2 ... 22077 22078 22079] [ 8832  8833  8834 ... 13245 13246 13247]\n",
      "17664 4416\n",
      "(17664, 88)\n",
      "138/138 [==============================] - 0s 1ms/step - loss: 0.4496 - accuracy: 0.8186 - auc: 0.7636\n",
      "[0.44956105947494507, 0.81861412525177, 0.7635794281959534]\n",
      "[    0     1     2 ... 22077 22078 22079] [13248 13249 13250 ... 17661 17662 17663]\n",
      "17664 4416\n",
      "(17664, 88)\n",
      "138/138 [==============================] - 0s 1ms/step - loss: 0.4424 - accuracy: 0.8166 - auc: 0.7688\n",
      "[0.44240447878837585, 0.8165760636329651, 0.7687519192695618]\n",
      "[    0     1     2 ... 17661 17662 17663] [17664 17665 17666 ... 22077 22078 22079]\n",
      "17664 4416\n",
      "(17664, 88)\n",
      "138/138 [==============================] - 0s 1ms/step - loss: 0.4384 - accuracy: 0.8229 - auc: 0.7722\n",
      "[0.43836870789527893, 0.8229166865348816, 0.7722200155258179]\n"
     ]
    }
   ],
   "source": [
    "hidden_layers = [16, 32, 64]\n",
    "layers_mertrics = {}\n",
    "\n",
    "for hidden_size in hidden_layers:\n",
    "\n",
    "    folds = KFold(n_splits=5)\n",
    "    #folds = LeaveOneOut()\n",
    "\n",
    "    hist_arr = []\n",
    "    models_arr = []\n",
    "    validation_metrics =[]\n",
    "\n",
    "    X_train, y_train = pd.DataFrame(X_train), pd.DataFrame(y_train)\n",
    "    for train_idx, val_idx in folds.split(X_train, y_train):\n",
    "        print(train_idx, val_idx)\n",
    "        print(len(train_idx), len(val_idx))\n",
    "\n",
    "        X_tr, y_tr = X_train.iloc[train_idx], y_train.iloc[train_idx]\n",
    "        X_val, y_val = X_train.iloc[val_idx], y_train.iloc[val_idx]\n",
    "\n",
    "\n",
    "        print(X_tr.shape)\n",
    "        model = get_model(hidden_size=hidden_size)\n",
    "\n",
    "        hist = model.fit(X_tr, y_tr, epochs=20, validation_data=(X_val, y_val), verbose=0)\n",
    "        hist_arr.append(hist)\n",
    "        models_arr.append(model)\n",
    "\n",
    "        model_scores = model.evaluate(X_val, y_val)\n",
    "        print(model_scores)\n",
    "        validation_metrics.append(model_scores)\n",
    "\n",
    "    layers_mertrics[hidden_size] = np.array(validation_metrics).mean(0)"
   ]
  },
  {
   "cell_type": "code",
   "execution_count": 461,
   "metadata": {},
   "outputs": [
    {
     "data": {
      "text/html": [
       "<div>\n",
       "<style scoped>\n",
       "    .dataframe tbody tr th:only-of-type {\n",
       "        vertical-align: middle;\n",
       "    }\n",
       "\n",
       "    .dataframe tbody tr th {\n",
       "        vertical-align: top;\n",
       "    }\n",
       "\n",
       "    .dataframe thead th {\n",
       "        text-align: right;\n",
       "    }\n",
       "</style>\n",
       "<table border=\"1\" class=\"dataframe\">\n",
       "  <thead>\n",
       "    <tr style=\"text-align: right;\">\n",
       "      <th></th>\n",
       "      <th>16</th>\n",
       "      <th>32</th>\n",
       "      <th>64</th>\n",
       "    </tr>\n",
       "  </thead>\n",
       "  <tbody>\n",
       "    <tr>\n",
       "      <th>0</th>\n",
       "      <td>0.431313</td>\n",
       "      <td>0.435656</td>\n",
       "      <td>0.440362</td>\n",
       "    </tr>\n",
       "    <tr>\n",
       "      <th>1</th>\n",
       "      <td>0.824185</td>\n",
       "      <td>0.822781</td>\n",
       "      <td>0.821830</td>\n",
       "    </tr>\n",
       "    <tr>\n",
       "      <th>2</th>\n",
       "      <td>0.775656</td>\n",
       "      <td>0.769780</td>\n",
       "      <td>0.767334</td>\n",
       "    </tr>\n",
       "  </tbody>\n",
       "</table>\n",
       "</div>"
      ],
      "text/plain": [
       "         16        32        64\n",
       "0  0.431313  0.435656  0.440362\n",
       "1  0.824185  0.822781  0.821830\n",
       "2  0.775656  0.769780  0.767334"
      ]
     },
     "execution_count": 461,
     "metadata": {},
     "output_type": "execute_result"
    }
   ],
   "source": [
    "pd.DataFrame(layers_mertrics)"
   ]
  },
  {
   "cell_type": "code",
   "execution_count": null,
   "metadata": {},
   "outputs": [],
   "source": []
  },
  {
   "cell_type": "code",
   "execution_count": 462,
   "metadata": {},
   "outputs": [],
   "source": [
    "from sklearn.ensemble import RandomForestClassifier, GradientBoostingClassifier\n",
    "from sklearn.linear_model import LogisticRegression"
   ]
  },
  {
   "cell_type": "code",
   "execution_count": 463,
   "metadata": {},
   "outputs": [
    {
     "name": "stderr",
     "output_type": "stream",
     "text": [
      "C:\\Users\\surajp\\AppData\\Local\\Temp/ipykernel_3252/2609720490.py:2: DataConversionWarning: A column-vector y was passed when a 1d array was expected. Please change the shape of y to (n_samples,), for example using ravel().\n",
      "  reg.fit(X_train, y_train)\n"
     ]
    },
    {
     "data": {
      "text/plain": [
       "RandomForestClassifier(bootstrap=True, ccp_alpha=0.0, class_weight=None,\n",
       "                       criterion='gini', max_depth=None, max_features='auto',\n",
       "                       max_leaf_nodes=None, max_samples=None,\n",
       "                       min_impurity_decrease=0.0, min_impurity_split=None,\n",
       "                       min_samples_leaf=1, min_samples_split=2,\n",
       "                       min_weight_fraction_leaf=0.0, n_estimators=100,\n",
       "                       n_jobs=None, oob_score=False, random_state=None,\n",
       "                       verbose=0, warm_start=False)"
      ]
     },
     "execution_count": 463,
     "metadata": {},
     "output_type": "execute_result"
    }
   ],
   "source": [
    "reg = RandomForestClassifier()\n",
    "reg.fit(X_train, y_train)"
   ]
  },
  {
   "cell_type": "code",
   "execution_count": 464,
   "metadata": {},
   "outputs": [
    {
     "name": "stdout",
     "output_type": "stream",
     "text": [
      "Epoch 1/50\n",
      "690/690 [==============================] - 1s 2ms/step - loss: 0.4064 - accuracy: 0.8365 - auc: 0.7999 - val_loss: 0.4391 - val_accuracy: 0.8214 - val_auc: 0.7691\n",
      "Epoch 2/50\n",
      "690/690 [==============================] - 1s 2ms/step - loss: 0.4035 - accuracy: 0.8379 - auc: 0.8032 - val_loss: 0.4352 - val_accuracy: 0.8223 - val_auc: 0.7722\n",
      "Epoch 3/50\n",
      "690/690 [==============================] - 1s 2ms/step - loss: 0.4029 - accuracy: 0.8375 - auc: 0.8024 - val_loss: 0.4408 - val_accuracy: 0.8220 - val_auc: 0.7745\n",
      "Epoch 4/50\n",
      "690/690 [==============================] - 1s 2ms/step - loss: 0.4014 - accuracy: 0.8386 - auc: 0.8046 - val_loss: 0.4453 - val_accuracy: 0.8185 - val_auc: 0.7751\n",
      "Epoch 5/50\n",
      "690/690 [==============================] - 1s 2ms/step - loss: 0.4002 - accuracy: 0.8385 - auc: 0.8057 - val_loss: 0.4396 - val_accuracy: 0.8191 - val_auc: 0.7747\n",
      "Epoch 6/50\n",
      "690/690 [==============================] - 1s 2ms/step - loss: 0.3995 - accuracy: 0.8374 - auc: 0.8081 - val_loss: 0.4413 - val_accuracy: 0.8207 - val_auc: 0.7696\n",
      "Epoch 7/50\n",
      "690/690 [==============================] - 1s 2ms/step - loss: 0.3977 - accuracy: 0.8396 - auc: 0.8089 - val_loss: 0.4404 - val_accuracy: 0.8220 - val_auc: 0.7744\n",
      "Epoch 8/50\n",
      "690/690 [==============================] - 1s 2ms/step - loss: 0.3977 - accuracy: 0.8394 - auc: 0.8092 - val_loss: 0.4429 - val_accuracy: 0.8183 - val_auc: 0.7722\n",
      "Epoch 9/50\n",
      "690/690 [==============================] - 1s 2ms/step - loss: 0.3965 - accuracy: 0.8403 - auc: 0.8107 - val_loss: 0.4457 - val_accuracy: 0.8214 - val_auc: 0.7736\n",
      "Epoch 10/50\n",
      "690/690 [==============================] - 1s 2ms/step - loss: 0.3956 - accuracy: 0.8399 - auc: 0.8120 - val_loss: 0.4450 - val_accuracy: 0.8201 - val_auc: 0.7746\n",
      "Epoch 11/50\n",
      "690/690 [==============================] - 1s 2ms/step - loss: 0.3944 - accuracy: 0.8411 - auc: 0.8127 - val_loss: 0.4458 - val_accuracy: 0.8165 - val_auc: 0.7694\n",
      "Epoch 12/50\n",
      "690/690 [==============================] - 1s 2ms/step - loss: 0.3943 - accuracy: 0.8409 - auc: 0.8137 - val_loss: 0.4461 - val_accuracy: 0.8183 - val_auc: 0.7746\n",
      "Epoch 13/50\n",
      "690/690 [==============================] - 1s 2ms/step - loss: 0.3934 - accuracy: 0.8411 - auc: 0.8138 - val_loss: 0.4464 - val_accuracy: 0.8198 - val_auc: 0.7706\n",
      "Epoch 14/50\n",
      "690/690 [==============================] - 1s 2ms/step - loss: 0.3926 - accuracy: 0.8431 - auc: 0.8147 - val_loss: 0.4455 - val_accuracy: 0.8218 - val_auc: 0.7722\n",
      "Epoch 15/50\n",
      "690/690 [==============================] - 1s 2ms/step - loss: 0.3918 - accuracy: 0.8414 - auc: 0.8161 - val_loss: 0.4486 - val_accuracy: 0.8169 - val_auc: 0.7699\n",
      "Epoch 16/50\n",
      "690/690 [==============================] - 1s 2ms/step - loss: 0.3909 - accuracy: 0.8409 - auc: 0.8178 - val_loss: 0.4484 - val_accuracy: 0.8180 - val_auc: 0.7737\n",
      "Epoch 17/50\n",
      "690/690 [==============================] - 1s 2ms/step - loss: 0.3904 - accuracy: 0.8430 - auc: 0.8178 - val_loss: 0.4486 - val_accuracy: 0.8221 - val_auc: 0.7709\n",
      "Epoch 18/50\n",
      "690/690 [==============================] - 1s 884us/step - loss: 0.3893 - accuracy: 0.8424 - auc: 0.8188 - val_loss: 0.4537 - val_accuracy: 0.8176 - val_auc: 0.7632\n",
      "Epoch 19/50\n",
      "690/690 [==============================] - 1s 2ms/step - loss: 0.3882 - accuracy: 0.8436 - auc: 0.8196 - val_loss: 0.4522 - val_accuracy: 0.8220 - val_auc: 0.7689\n",
      "Epoch 20/50\n",
      "690/690 [==============================] - 1s 2ms/step - loss: 0.3880 - accuracy: 0.8432 - auc: 0.8199 - val_loss: 0.4511 - val_accuracy: 0.8171 - val_auc: 0.7688\n",
      "Epoch 21/50\n",
      "690/690 [==============================] - 1s 2ms/step - loss: 0.3876 - accuracy: 0.8427 - auc: 0.8206 - val_loss: 0.4531 - val_accuracy: 0.8185 - val_auc: 0.7703\n",
      "Epoch 22/50\n",
      "690/690 [==============================] - 1s 2ms/step - loss: 0.3865 - accuracy: 0.8441 - auc: 0.8221 - val_loss: 0.4572 - val_accuracy: 0.8191 - val_auc: 0.7635\n",
      "Epoch 23/50\n",
      "690/690 [==============================] - 1s 2ms/step - loss: 0.3865 - accuracy: 0.8443 - auc: 0.8215 - val_loss: 0.4591 - val_accuracy: 0.8169 - val_auc: 0.7676\n",
      "Epoch 24/50\n",
      "690/690 [==============================] - 1s 2ms/step - loss: 0.3843 - accuracy: 0.8442 - auc: 0.8251 - val_loss: 0.4625 - val_accuracy: 0.8185 - val_auc: 0.7639\n",
      "Epoch 25/50\n",
      "690/690 [==============================] - 1s 2ms/step - loss: 0.3857 - accuracy: 0.8437 - auc: 0.8228 - val_loss: 0.4595 - val_accuracy: 0.8187 - val_auc: 0.7668\n",
      "Epoch 26/50\n",
      "690/690 [==============================] - 1s 2ms/step - loss: 0.3842 - accuracy: 0.8463 - auc: 0.8243 - val_loss: 0.4666 - val_accuracy: 0.8100 - val_auc: 0.7639\n",
      "Epoch 27/50\n",
      "690/690 [==============================] - 1s 2ms/step - loss: 0.3835 - accuracy: 0.8444 - auc: 0.8250 - val_loss: 0.4653 - val_accuracy: 0.8171 - val_auc: 0.7646\n",
      "Epoch 28/50\n",
      "690/690 [==============================] - 1s 2ms/step - loss: 0.3832 - accuracy: 0.8459 - auc: 0.8258 - val_loss: 0.4653 - val_accuracy: 0.8187 - val_auc: 0.7613\n",
      "Epoch 29/50\n",
      "690/690 [==============================] - 1s 2ms/step - loss: 0.3831 - accuracy: 0.8452 - auc: 0.8255 - val_loss: 0.4642 - val_accuracy: 0.8163 - val_auc: 0.7672\n",
      "Epoch 30/50\n",
      "690/690 [==============================] - 1s 2ms/step - loss: 0.3826 - accuracy: 0.8436 - auc: 0.8261 - val_loss: 0.4631 - val_accuracy: 0.8181 - val_auc: 0.7635\n",
      "Epoch 31/50\n",
      "690/690 [==============================] - 1s 2ms/step - loss: 0.3819 - accuracy: 0.8454 - auc: 0.8270 - val_loss: 0.4676 - val_accuracy: 0.8149 - val_auc: 0.7594\n",
      "Epoch 32/50\n",
      "690/690 [==============================] - 1s 2ms/step - loss: 0.3809 - accuracy: 0.8458 - auc: 0.8280 - val_loss: 0.4653 - val_accuracy: 0.8176 - val_auc: 0.7633\n",
      "Epoch 33/50\n",
      "690/690 [==============================] - 1s 2ms/step - loss: 0.3806 - accuracy: 0.8462 - auc: 0.8281 - val_loss: 0.4700 - val_accuracy: 0.8174 - val_auc: 0.7646\n",
      "Epoch 34/50\n",
      "690/690 [==============================] - 1s 2ms/step - loss: 0.3805 - accuracy: 0.8452 - auc: 0.8289 - val_loss: 0.4741 - val_accuracy: 0.8145 - val_auc: 0.7528\n",
      "Epoch 35/50\n",
      "690/690 [==============================] - 1s 2ms/step - loss: 0.3798 - accuracy: 0.8462 - auc: 0.8292 - val_loss: 0.4737 - val_accuracy: 0.8145 - val_auc: 0.7537\n",
      "Epoch 36/50\n",
      "690/690 [==============================] - 1s 2ms/step - loss: 0.3797 - accuracy: 0.8461 - auc: 0.8289 - val_loss: 0.4692 - val_accuracy: 0.8153 - val_auc: 0.7593\n",
      "Epoch 37/50\n",
      "690/690 [==============================] - 1s 2ms/step - loss: 0.3791 - accuracy: 0.8471 - auc: 0.8299 - val_loss: 0.4744 - val_accuracy: 0.8169 - val_auc: 0.7523\n",
      "Epoch 38/50\n",
      "690/690 [==============================] - 1s 2ms/step - loss: 0.3786 - accuracy: 0.8471 - auc: 0.8310 - val_loss: 0.4726 - val_accuracy: 0.8142 - val_auc: 0.7572\n",
      "Epoch 39/50\n",
      "690/690 [==============================] - 1s 2ms/step - loss: 0.3785 - accuracy: 0.8471 - auc: 0.8300 - val_loss: 0.4775 - val_accuracy: 0.8118 - val_auc: 0.7578\n",
      "Epoch 40/50\n",
      "690/690 [==============================] - 1s 2ms/step - loss: 0.3775 - accuracy: 0.8481 - auc: 0.8305 - val_loss: 0.4748 - val_accuracy: 0.8136 - val_auc: 0.7578\n",
      "Epoch 41/50\n",
      "690/690 [==============================] - 1s 2ms/step - loss: 0.3778 - accuracy: 0.8476 - auc: 0.8304 - val_loss: 0.4724 - val_accuracy: 0.8158 - val_auc: 0.7523\n",
      "Epoch 42/50\n",
      "690/690 [==============================] - 1s 2ms/step - loss: 0.3771 - accuracy: 0.8490 - auc: 0.8317 - val_loss: 0.4808 - val_accuracy: 0.8163 - val_auc: 0.7554\n",
      "Epoch 43/50\n",
      "690/690 [==============================] - 1s 2ms/step - loss: 0.3762 - accuracy: 0.8480 - auc: 0.8330 - val_loss: 0.4799 - val_accuracy: 0.8160 - val_auc: 0.7580\n",
      "Epoch 44/50\n",
      "690/690 [==============================] - 1s 2ms/step - loss: 0.3764 - accuracy: 0.8479 - auc: 0.8322 - val_loss: 0.4785 - val_accuracy: 0.8138 - val_auc: 0.7560\n",
      "Epoch 45/50\n",
      "690/690 [==============================] - 1s 1ms/step - loss: 0.3761 - accuracy: 0.8484 - auc: 0.8327 - val_loss: 0.4820 - val_accuracy: 0.8165 - val_auc: 0.7547\n",
      "Epoch 46/50\n",
      "690/690 [==============================] - 1s 2ms/step - loss: 0.3754 - accuracy: 0.8480 - auc: 0.8341 - val_loss: 0.4814 - val_accuracy: 0.8145 - val_auc: 0.7532\n",
      "Epoch 47/50\n",
      "690/690 [==============================] - 1s 2ms/step - loss: 0.3743 - accuracy: 0.8484 - auc: 0.8350 - val_loss: 0.4831 - val_accuracy: 0.8142 - val_auc: 0.7388\n",
      "Epoch 48/50\n",
      "690/690 [==============================] - 1s 2ms/step - loss: 0.3746 - accuracy: 0.8474 - auc: 0.8341 - val_loss: 0.4830 - val_accuracy: 0.8107 - val_auc: 0.7516\n",
      "Epoch 49/50\n",
      "690/690 [==============================] - 1s 2ms/step - loss: 0.3737 - accuracy: 0.8482 - auc: 0.8356 - val_loss: 0.4817 - val_accuracy: 0.8153 - val_auc: 0.7454\n",
      "Epoch 50/50\n",
      "690/690 [==============================] - 1s 2ms/step - loss: 0.3747 - accuracy: 0.8497 - auc: 0.8343 - val_loss: 0.4884 - val_accuracy: 0.8158 - val_auc: 0.7513\n"
     ]
    }
   ],
   "source": [
    "hist = model.fit(X_train, y_train, epochs=50, validation_data=(X_test, y_test))"
   ]
  },
  {
   "cell_type": "code",
   "execution_count": 465,
   "metadata": {},
   "outputs": [
    {
     "data": {
      "text/plain": [
       "array([[<AxesSubplot:title={'center':'0'}>]], dtype=object)"
      ]
     },
     "execution_count": 465,
     "metadata": {},
     "output_type": "execute_result"
    },
    {
     "data": {
      "image/png": "[encoded data removed]",
      "text/plain": [
       "<Figure size 432x288 with 1 Axes>"
      ]
     },
     "metadata": {
      "needs_background": "light"
     },
     "output_type": "display_data"
    }
   ],
   "source": [
    "pd.DataFrame(model.predict(X_train)).hist()"
   ]
  },
  {
   "cell_type": "code",
   "execution_count": 466,
   "metadata": {},
   "outputs": [
    {
     "data": {
      "text/plain": [
       "array([[<AxesSubplot:title={'center':'0'}>]], dtype=object)"
      ]
     },
     "execution_count": 466,
     "metadata": {},
     "output_type": "execute_result"
    },
    {
     "data": {
      "image/png": "[encoded data removed]",
      "text/plain": [
       "<Figure size 432x288 with 1 Axes>"
      ]
     },
     "metadata": {
      "needs_background": "light"
     },
     "output_type": "display_data"
    }
   ],
   "source": [
    "pd.DataFrame(model.predict(X_test)).hist()"
   ]
  },
  {
   "cell_type": "code",
   "execution_count": 467,
   "metadata": {},
   "outputs": [
    {
     "data": {
      "image/png": "[encoded data removed]",
      "text/plain": [
       "<Figure size 432x288 with 1 Axes>"
      ]
     },
     "metadata": {
      "needs_background": "light"
     },
     "output_type": "display_data"
    }
   ],
   "source": [
    "plt.plot(hist.history['accuracy'])\n",
    "plt.plot(hist.history['val_accuracy'])\n",
    "plt.title('model accuracy')\n",
    "plt.ylabel('accuracy')\n",
    "plt.xlabel('epoch')\n",
    "plt.legend(['train', 'val'], loc='upper left')\n",
    "plt.show()"
   ]
  },
  {
   "cell_type": "code",
   "execution_count": 468,
   "metadata": {},
   "outputs": [
    {
     "data": {
      "image/png": "[encoded data removed]",
      "text/plain": [
       "<Figure size 432x288 with 1 Axes>"
      ]
     },
     "metadata": {
      "needs_background": "light"
     },
     "output_type": "display_data"
    }
   ],
   "source": [
    "plt.plot(hist.history['loss'])\n",
    "plt.plot(hist.history['val_loss'])\n",
    "plt.title('model loss')\n",
    "plt.ylabel('loss')\n",
    "plt.xlabel('epoch')\n",
    "plt.legend(['train', 'val'], loc='upper left')\n",
    "plt.show()"
   ]
  },
  {
   "cell_type": "code",
   "execution_count": 469,
   "metadata": {},
   "outputs": [
    {
     "data": {
      "image/png": "[encoded data removed]",
      "text/plain": [
       "<Figure size 432x288 with 2 Axes>"
      ]
     },
     "metadata": {
      "needs_background": "light"
     },
     "output_type": "display_data"
    }
   ],
   "source": [
    "test_preds = model.predict(X_test).reshape(-1, 1)\n",
    "test_preds = (test_preds>=0.5).astype(int)\n",
    "\n",
    "cm = metrics.confusion_matrix(y_test, test_preds, normalize=\"all\")\n",
    "disp = metrics.ConfusionMatrixDisplay(confusion_matrix=cm, display_labels=[0, 1])\n",
    "disp.plot()\n",
    "plt.show()"
   ]
  },
  {
   "cell_type": "code",
   "execution_count": 470,
   "metadata": {
    "pycharm": {
     "name": "#%%\n"
    }
   },
   "outputs": [
    {
     "data": {
      "image/png": "[encoded data removed]",
      "text/plain": [
       "<Figure size 432x288 with 2 Axes>"
      ]
     },
     "metadata": {
      "needs_background": "light"
     },
     "output_type": "display_data"
    }
   ],
   "source": [
    "test_preds = model.predict(X_train).reshape(-1, 1)\n",
    "test_preds = (test_preds>=0.5).astype(int)\n",
    "\n",
    "cm = metrics.confusion_matrix(y_train, test_preds, normalize=\"all\")\n",
    "disp = metrics.ConfusionMatrixDisplay(confusion_matrix=cm, display_labels=[0, 1])\n",
    "disp.plot()\n",
    "plt.show()"
   ]
  },
  {
   "cell_type": "code",
   "execution_count": 471,
   "metadata": {
    "collapsed": false,
    "pycharm": {
     "name": "#%%\n"
    }
   },
   "outputs": [
    {
     "data": {
      "text/plain": [
       "0.12117539587530568"
      ]
     },
     "execution_count": 471,
     "metadata": {},
     "output_type": "execute_result"
    }
   ],
   "source": [
    "test_preds = model.predict(X_train).reshape(-1, 1)\n",
    "test_preds = (test_preds>=0.5).astype(int)\n",
    "\n",
    "r2 = metrics.r2_score(y_train, test_preds)\n",
    "r2\n"
   ]
  },
  {
   "cell_type": "code",
   "execution_count": 472,
   "metadata": {},
   "outputs": [
    {
     "data": {
      "text/plain": [
       "array([0.44036216, 0.8218297 , 0.76733378])"
      ]
     },
     "execution_count": 472,
     "metadata": {},
     "output_type": "execute_result"
    }
   ],
   "source": [
    "np.array(validation_metrics).mean(0)"
   ]
  },
  {
   "cell_type": "code",
   "execution_count": null,
   "metadata": {},
   "outputs": [],
   "source": []
  }
 ],
 "metadata": {
  "interpreter": {
   "hash": "58f07684d2132a1fc2f00d4554c5ca3bdaec90a3d4f48c6595c94b0595105893"
  },
  "kernelspec": {
   "display_name": "Python 3.8.0 64-bit ('realad': conda)",
   "name": "python3"
  },
  "language_info": {
   "codemirror_mode": {
    "name": "ipython",
    "version": 3
   },
   "file_extension": ".py",
   "mimetype": "text/x-python",
   "name": "python",
   "nbconvert_exporter": "python",
   "pygments_lexer": "ipython3",
   "version": "3.8.0"
  },
  "orig_nbformat": 4
 },
 "nbformat": 4,
 "nbformat_minor": 2
}
